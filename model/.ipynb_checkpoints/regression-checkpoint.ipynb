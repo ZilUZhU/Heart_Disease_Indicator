{
 "cells": [
  {
   "cell_type": "code",
   "execution_count": 1,
   "metadata": {
    "_cell_guid": "b1076dfc-b9ad-4769-8c92-a6c4dae69d19",
    "_uuid": "8f2839f25d086af736a60e9eeb907d3b93b6e0e5",
    "execution": {
     "iopub.execute_input": "2024-03-27T01:40:11.499023Z",
     "iopub.status.busy": "2024-03-27T01:40:11.498600Z",
     "iopub.status.idle": "2024-03-27T01:40:12.987783Z",
     "shell.execute_reply": "2024-03-27T01:40:12.986864Z",
     "shell.execute_reply.started": "2024-03-27T01:40:11.498979Z"
    }
   },
   "outputs": [
    {
     "name": "stdout",
     "output_type": "stream",
     "text": [
      "/kaggle/input/personal-key-indicators-of-heart-disease/2020/heart_2020_cleaned.csv\n",
      "/kaggle/input/personal-key-indicators-of-heart-disease/2022/heart_2022_with_nans.csv\n",
      "/kaggle/input/personal-key-indicators-of-heart-disease/2022/heart_2022_no_nans.csv\n"
     ]
    }
   ],
   "source": [
    "# This Python 3 environment comes with many helpful analytics libraries installed\n",
    "# It is defined by the kaggle/python Docker image: https://github.com/kaggle/docker-python\n",
    "# For example, here's several helpful packages to load\n",
    "\n",
    "import numpy as np # linear algebra\n",
    "import pandas as pd # data processing, CSV file I/O (e.g. pd.read_csv)\n",
    "\n",
    "# Input data files are available in the read-only \"../input/\" directory\n",
    "# For example, running this (by clicking run or pressing Shift+Enter) will list all files under the input directory\n",
    "\n",
    "import os\n",
    "for dirname, _, filenames in os.walk('/kaggle/input'):\n",
    "    for filename in filenames:\n",
    "        print(os.path.join(dirname, filename))\n",
    "\n",
    "# You can write up to 20GB to the current directory (/kaggle/working/) that gets preserved as output when you create a version using \"Save & Run All\" \n",
    "# You can also write temporary files to /kaggle/temp/, but they won't be saved outside of the current session"
   ]
  },
  {
   "cell_type": "markdown",
   "metadata": {},
   "source": [
    "# **Importing Libraries**"
   ]
  },
  {
   "cell_type": "code",
   "execution_count": 2,
   "metadata": {
    "execution": {
     "iopub.execute_input": "2024-03-19T19:16:00.116533Z",
     "iopub.status.busy": "2024-03-19T19:16:00.116131Z",
     "iopub.status.idle": "2024-03-19T19:16:00.123385Z",
     "shell.execute_reply": "2024-03-19T19:16:00.122137Z",
     "shell.execute_reply.started": "2024-03-19T19:16:00.116504Z"
    }
   },
   "outputs": [],
   "source": [
    "import numpy as np \n",
    "import pandas as pd \n",
    "import matplotlib.pyplot as plt\n",
    "import seaborn as sns\n",
    "import sklearn\n",
    "from sklearn.model_selection import train_test_split\n",
    "from sklearn.preprocessing import StandardScaler\n",
    "from sklearn.linear_model import LogisticRegression\n",
    "from sklearn.metrics import confusion_matrix, classification_report\n",
    "from sklearn.preprocessing import LabelEncoder"
   ]
  },
  {
   "cell_type": "markdown",
   "metadata": {},
   "source": [
    "# **Basic Data Exploration**"
   ]
  },
  {
   "cell_type": "code",
   "execution_count": 5,
   "metadata": {
    "execution": {
     "iopub.execute_input": "2024-03-19T19:12:35.293478Z",
     "iopub.status.busy": "2024-03-19T19:12:35.292973Z",
     "iopub.status.idle": "2024-03-19T19:12:36.479651Z",
     "shell.execute_reply": "2024-03-19T19:12:36.478662Z",
     "shell.execute_reply.started": "2024-03-19T19:12:35.293434Z"
    }
   },
   "outputs": [],
   "source": [
    "df=pd.read_csv('../data/data.csv')"
   ]
  },
  {
   "cell_type": "code",
   "execution_count": 6,
   "metadata": {
    "execution": {
     "iopub.execute_input": "2024-03-19T19:12:36.48259Z",
     "iopub.status.busy": "2024-03-19T19:12:36.481986Z",
     "iopub.status.idle": "2024-03-19T19:12:36.509433Z",
     "shell.execute_reply": "2024-03-19T19:12:36.508003Z",
     "shell.execute_reply.started": "2024-03-19T19:12:36.482555Z"
    }
   },
   "outputs": [
    {
     "data": {
      "text/html": [
       "<div>\n",
       "<style scoped>\n",
       "    .dataframe tbody tr th:only-of-type {\n",
       "        vertical-align: middle;\n",
       "    }\n",
       "\n",
       "    .dataframe tbody tr th {\n",
       "        vertical-align: top;\n",
       "    }\n",
       "\n",
       "    .dataframe thead th {\n",
       "        text-align: right;\n",
       "    }\n",
       "</style>\n",
       "<table border=\"1\" class=\"dataframe\">\n",
       "  <thead>\n",
       "    <tr style=\"text-align: right;\">\n",
       "      <th></th>\n",
       "      <th>State</th>\n",
       "      <th>Sex</th>\n",
       "      <th>GeneralHealth</th>\n",
       "      <th>PhysicalHealthDays</th>\n",
       "      <th>MentalHealthDays</th>\n",
       "      <th>LastCheckupTime</th>\n",
       "      <th>PhysicalActivities</th>\n",
       "      <th>SleepHours</th>\n",
       "      <th>RemovedTeeth</th>\n",
       "      <th>HadHeartAttack</th>\n",
       "      <th>...</th>\n",
       "      <th>HeightInMeters</th>\n",
       "      <th>WeightInKilograms</th>\n",
       "      <th>BMI</th>\n",
       "      <th>AlcoholDrinkers</th>\n",
       "      <th>HIVTesting</th>\n",
       "      <th>FluVaxLast12</th>\n",
       "      <th>PneumoVaxEver</th>\n",
       "      <th>TetanusLast10Tdap</th>\n",
       "      <th>HighRiskLastYear</th>\n",
       "      <th>CovidPos</th>\n",
       "    </tr>\n",
       "  </thead>\n",
       "  <tbody>\n",
       "    <tr>\n",
       "      <th>0</th>\n",
       "      <td>Alabama</td>\n",
       "      <td>Female</td>\n",
       "      <td>Very good</td>\n",
       "      <td>4.0</td>\n",
       "      <td>0.0</td>\n",
       "      <td>Within past year (anytime less than 12 months ...</td>\n",
       "      <td>Yes</td>\n",
       "      <td>9.0</td>\n",
       "      <td>None of them</td>\n",
       "      <td>No</td>\n",
       "      <td>...</td>\n",
       "      <td>1.60</td>\n",
       "      <td>71.67</td>\n",
       "      <td>27.99</td>\n",
       "      <td>No</td>\n",
       "      <td>No</td>\n",
       "      <td>Yes</td>\n",
       "      <td>Yes</td>\n",
       "      <td>Yes, received Tdap</td>\n",
       "      <td>No</td>\n",
       "      <td>No</td>\n",
       "    </tr>\n",
       "    <tr>\n",
       "      <th>1</th>\n",
       "      <td>Alabama</td>\n",
       "      <td>Male</td>\n",
       "      <td>Very good</td>\n",
       "      <td>0.0</td>\n",
       "      <td>0.0</td>\n",
       "      <td>Within past year (anytime less than 12 months ...</td>\n",
       "      <td>Yes</td>\n",
       "      <td>6.0</td>\n",
       "      <td>None of them</td>\n",
       "      <td>No</td>\n",
       "      <td>...</td>\n",
       "      <td>1.78</td>\n",
       "      <td>95.25</td>\n",
       "      <td>30.13</td>\n",
       "      <td>No</td>\n",
       "      <td>No</td>\n",
       "      <td>Yes</td>\n",
       "      <td>Yes</td>\n",
       "      <td>Yes, received tetanus shot but not sure what type</td>\n",
       "      <td>No</td>\n",
       "      <td>No</td>\n",
       "    </tr>\n",
       "    <tr>\n",
       "      <th>2</th>\n",
       "      <td>Alabama</td>\n",
       "      <td>Male</td>\n",
       "      <td>Very good</td>\n",
       "      <td>0.0</td>\n",
       "      <td>0.0</td>\n",
       "      <td>Within past year (anytime less than 12 months ...</td>\n",
       "      <td>No</td>\n",
       "      <td>8.0</td>\n",
       "      <td>6 or more, but not all</td>\n",
       "      <td>No</td>\n",
       "      <td>...</td>\n",
       "      <td>1.85</td>\n",
       "      <td>108.86</td>\n",
       "      <td>31.66</td>\n",
       "      <td>Yes</td>\n",
       "      <td>No</td>\n",
       "      <td>No</td>\n",
       "      <td>Yes</td>\n",
       "      <td>No, did not receive any tetanus shot in the pa...</td>\n",
       "      <td>No</td>\n",
       "      <td>Yes</td>\n",
       "    </tr>\n",
       "    <tr>\n",
       "      <th>3</th>\n",
       "      <td>Alabama</td>\n",
       "      <td>Female</td>\n",
       "      <td>Fair</td>\n",
       "      <td>5.0</td>\n",
       "      <td>0.0</td>\n",
       "      <td>Within past year (anytime less than 12 months ...</td>\n",
       "      <td>Yes</td>\n",
       "      <td>9.0</td>\n",
       "      <td>None of them</td>\n",
       "      <td>No</td>\n",
       "      <td>...</td>\n",
       "      <td>1.70</td>\n",
       "      <td>90.72</td>\n",
       "      <td>31.32</td>\n",
       "      <td>No</td>\n",
       "      <td>No</td>\n",
       "      <td>Yes</td>\n",
       "      <td>Yes</td>\n",
       "      <td>No, did not receive any tetanus shot in the pa...</td>\n",
       "      <td>No</td>\n",
       "      <td>Yes</td>\n",
       "    </tr>\n",
       "    <tr>\n",
       "      <th>4</th>\n",
       "      <td>Alabama</td>\n",
       "      <td>Female</td>\n",
       "      <td>Good</td>\n",
       "      <td>3.0</td>\n",
       "      <td>15.0</td>\n",
       "      <td>Within past year (anytime less than 12 months ...</td>\n",
       "      <td>Yes</td>\n",
       "      <td>5.0</td>\n",
       "      <td>1 to 5</td>\n",
       "      <td>No</td>\n",
       "      <td>...</td>\n",
       "      <td>1.55</td>\n",
       "      <td>79.38</td>\n",
       "      <td>33.07</td>\n",
       "      <td>No</td>\n",
       "      <td>No</td>\n",
       "      <td>Yes</td>\n",
       "      <td>Yes</td>\n",
       "      <td>No, did not receive any tetanus shot in the pa...</td>\n",
       "      <td>No</td>\n",
       "      <td>No</td>\n",
       "    </tr>\n",
       "  </tbody>\n",
       "</table>\n",
       "<p>5 rows × 40 columns</p>\n",
       "</div>"
      ],
      "text/plain": [
       "     State     Sex GeneralHealth  PhysicalHealthDays  MentalHealthDays  \\\n",
       "0  Alabama  Female     Very good                 4.0               0.0   \n",
       "1  Alabama    Male     Very good                 0.0               0.0   \n",
       "2  Alabama    Male     Very good                 0.0               0.0   \n",
       "3  Alabama  Female          Fair                 5.0               0.0   \n",
       "4  Alabama  Female          Good                 3.0              15.0   \n",
       "\n",
       "                                     LastCheckupTime PhysicalActivities  \\\n",
       "0  Within past year (anytime less than 12 months ...                Yes   \n",
       "1  Within past year (anytime less than 12 months ...                Yes   \n",
       "2  Within past year (anytime less than 12 months ...                 No   \n",
       "3  Within past year (anytime less than 12 months ...                Yes   \n",
       "4  Within past year (anytime less than 12 months ...                Yes   \n",
       "\n",
       "   SleepHours            RemovedTeeth HadHeartAttack  ... HeightInMeters  \\\n",
       "0         9.0            None of them             No  ...           1.60   \n",
       "1         6.0            None of them             No  ...           1.78   \n",
       "2         8.0  6 or more, but not all             No  ...           1.85   \n",
       "3         9.0            None of them             No  ...           1.70   \n",
       "4         5.0                  1 to 5             No  ...           1.55   \n",
       "\n",
       "  WeightInKilograms    BMI AlcoholDrinkers HIVTesting FluVaxLast12  \\\n",
       "0             71.67  27.99              No         No          Yes   \n",
       "1             95.25  30.13              No         No          Yes   \n",
       "2            108.86  31.66             Yes         No           No   \n",
       "3             90.72  31.32              No         No          Yes   \n",
       "4             79.38  33.07              No         No          Yes   \n",
       "\n",
       "  PneumoVaxEver                                  TetanusLast10Tdap  \\\n",
       "0           Yes                                 Yes, received Tdap   \n",
       "1           Yes  Yes, received tetanus shot but not sure what type   \n",
       "2           Yes  No, did not receive any tetanus shot in the pa...   \n",
       "3           Yes  No, did not receive any tetanus shot in the pa...   \n",
       "4           Yes  No, did not receive any tetanus shot in the pa...   \n",
       "\n",
       "  HighRiskLastYear CovidPos  \n",
       "0               No       No  \n",
       "1               No       No  \n",
       "2               No      Yes  \n",
       "3               No      Yes  \n",
       "4               No       No  \n",
       "\n",
       "[5 rows x 40 columns]"
      ]
     },
     "execution_count": 6,
     "metadata": {},
     "output_type": "execute_result"
    }
   ],
   "source": [
    "df.head()"
   ]
  },
  {
   "cell_type": "code",
   "execution_count": 7,
   "metadata": {
    "execution": {
     "iopub.execute_input": "2024-03-19T19:12:36.511564Z",
     "iopub.status.busy": "2024-03-19T19:12:36.511147Z",
     "iopub.status.idle": "2024-03-19T19:12:37.045694Z",
     "shell.execute_reply": "2024-03-19T19:12:37.044071Z",
     "shell.execute_reply.started": "2024-03-19T19:12:36.51153Z"
    }
   },
   "outputs": [
    {
     "name": "stdout",
     "output_type": "stream",
     "text": [
      "<class 'pandas.core.frame.DataFrame'>\n",
      "RangeIndex: 246022 entries, 0 to 246021\n",
      "Data columns (total 40 columns):\n",
      " #   Column                     Non-Null Count   Dtype  \n",
      "---  ------                     --------------   -----  \n",
      " 0   State                      246022 non-null  object \n",
      " 1   Sex                        246022 non-null  object \n",
      " 2   GeneralHealth              246022 non-null  object \n",
      " 3   PhysicalHealthDays         246022 non-null  float64\n",
      " 4   MentalHealthDays           246022 non-null  float64\n",
      " 5   LastCheckupTime            246022 non-null  object \n",
      " 6   PhysicalActivities         246022 non-null  object \n",
      " 7   SleepHours                 246022 non-null  float64\n",
      " 8   RemovedTeeth               246022 non-null  object \n",
      " 9   HadHeartAttack             246022 non-null  object \n",
      " 10  HadAngina                  246022 non-null  object \n",
      " 11  HadStroke                  246022 non-null  object \n",
      " 12  HadAsthma                  246022 non-null  object \n",
      " 13  HadSkinCancer              246022 non-null  object \n",
      " 14  HadCOPD                    246022 non-null  object \n",
      " 15  HadDepressiveDisorder      246022 non-null  object \n",
      " 16  HadKidneyDisease           246022 non-null  object \n",
      " 17  HadArthritis               246022 non-null  object \n",
      " 18  HadDiabetes                246022 non-null  object \n",
      " 19  DeafOrHardOfHearing        246022 non-null  object \n",
      " 20  BlindOrVisionDifficulty    246022 non-null  object \n",
      " 21  DifficultyConcentrating    246022 non-null  object \n",
      " 22  DifficultyWalking          246022 non-null  object \n",
      " 23  DifficultyDressingBathing  246022 non-null  object \n",
      " 24  DifficultyErrands          246022 non-null  object \n",
      " 25  SmokerStatus               246022 non-null  object \n",
      " 26  ECigaretteUsage            246022 non-null  object \n",
      " 27  ChestScan                  246022 non-null  object \n",
      " 28  RaceEthnicityCategory      246022 non-null  object \n",
      " 29  AgeCategory                246022 non-null  object \n",
      " 30  HeightInMeters             246022 non-null  float64\n",
      " 31  WeightInKilograms          246022 non-null  float64\n",
      " 32  BMI                        246022 non-null  float64\n",
      " 33  AlcoholDrinkers            246022 non-null  object \n",
      " 34  HIVTesting                 246022 non-null  object \n",
      " 35  FluVaxLast12               246022 non-null  object \n",
      " 36  PneumoVaxEver              246022 non-null  object \n",
      " 37  TetanusLast10Tdap          246022 non-null  object \n",
      " 38  HighRiskLastYear           246022 non-null  object \n",
      " 39  CovidPos                   246022 non-null  object \n",
      "dtypes: float64(6), object(34)\n",
      "memory usage: 75.1+ MB\n"
     ]
    }
   ],
   "source": [
    "df.info()"
   ]
  },
  {
   "cell_type": "markdown",
   "metadata": {},
   "source": [
    "**The output shows that we have around 319795 entries with 18 columns.\n",
    "We have 14 object type data and 4 float type data**"
   ]
  },
  {
   "cell_type": "code",
   "execution_count": 8,
   "metadata": {
    "execution": {
     "iopub.execute_input": "2024-03-19T19:12:37.048284Z",
     "iopub.status.busy": "2024-03-19T19:12:37.047434Z",
     "iopub.status.idle": "2024-03-19T19:12:37.54192Z",
     "shell.execute_reply": "2024-03-19T19:12:37.540766Z",
     "shell.execute_reply.started": "2024-03-19T19:12:37.048219Z"
    }
   },
   "outputs": [
    {
     "data": {
      "text/plain": [
       "State                        0\n",
       "Sex                          0\n",
       "GeneralHealth                0\n",
       "PhysicalHealthDays           0\n",
       "MentalHealthDays             0\n",
       "LastCheckupTime              0\n",
       "PhysicalActivities           0\n",
       "SleepHours                   0\n",
       "RemovedTeeth                 0\n",
       "HadHeartAttack               0\n",
       "HadAngina                    0\n",
       "HadStroke                    0\n",
       "HadAsthma                    0\n",
       "HadSkinCancer                0\n",
       "HadCOPD                      0\n",
       "HadDepressiveDisorder        0\n",
       "HadKidneyDisease             0\n",
       "HadArthritis                 0\n",
       "HadDiabetes                  0\n",
       "DeafOrHardOfHearing          0\n",
       "BlindOrVisionDifficulty      0\n",
       "DifficultyConcentrating      0\n",
       "DifficultyWalking            0\n",
       "DifficultyDressingBathing    0\n",
       "DifficultyErrands            0\n",
       "SmokerStatus                 0\n",
       "ECigaretteUsage              0\n",
       "ChestScan                    0\n",
       "RaceEthnicityCategory        0\n",
       "AgeCategory                  0\n",
       "HeightInMeters               0\n",
       "WeightInKilograms            0\n",
       "BMI                          0\n",
       "AlcoholDrinkers              0\n",
       "HIVTesting                   0\n",
       "FluVaxLast12                 0\n",
       "PneumoVaxEver                0\n",
       "TetanusLast10Tdap            0\n",
       "HighRiskLastYear             0\n",
       "CovidPos                     0\n",
       "dtype: int64"
      ]
     },
     "execution_count": 8,
     "metadata": {},
     "output_type": "execute_result"
    }
   ],
   "source": [
    "df.isnull().sum()"
   ]
  },
  {
   "cell_type": "markdown",
   "metadata": {},
   "source": [
    "**There are no null values in the dataset**"
   ]
  },
  {
   "cell_type": "code",
   "execution_count": 9,
   "metadata": {
    "execution": {
     "iopub.execute_input": "2024-03-19T19:12:37.543831Z",
     "iopub.status.busy": "2024-03-19T19:12:37.543363Z",
     "iopub.status.idle": "2024-03-19T19:12:37.619282Z",
     "shell.execute_reply": "2024-03-19T19:12:37.618Z",
     "shell.execute_reply.started": "2024-03-19T19:12:37.543798Z"
    }
   },
   "outputs": [
    {
     "data": {
      "text/html": [
       "<div>\n",
       "<style scoped>\n",
       "    .dataframe tbody tr th:only-of-type {\n",
       "        vertical-align: middle;\n",
       "    }\n",
       "\n",
       "    .dataframe tbody tr th {\n",
       "        vertical-align: top;\n",
       "    }\n",
       "\n",
       "    .dataframe thead th {\n",
       "        text-align: right;\n",
       "    }\n",
       "</style>\n",
       "<table border=\"1\" class=\"dataframe\">\n",
       "  <thead>\n",
       "    <tr style=\"text-align: right;\">\n",
       "      <th></th>\n",
       "      <th>PhysicalHealthDays</th>\n",
       "      <th>MentalHealthDays</th>\n",
       "      <th>SleepHours</th>\n",
       "      <th>HeightInMeters</th>\n",
       "      <th>WeightInKilograms</th>\n",
       "      <th>BMI</th>\n",
       "    </tr>\n",
       "  </thead>\n",
       "  <tbody>\n",
       "    <tr>\n",
       "      <th>count</th>\n",
       "      <td>246022.000000</td>\n",
       "      <td>246022.000000</td>\n",
       "      <td>246022.000000</td>\n",
       "      <td>246022.000000</td>\n",
       "      <td>246022.000000</td>\n",
       "      <td>246022.000000</td>\n",
       "    </tr>\n",
       "    <tr>\n",
       "      <th>mean</th>\n",
       "      <td>4.119026</td>\n",
       "      <td>4.167140</td>\n",
       "      <td>7.021331</td>\n",
       "      <td>1.705150</td>\n",
       "      <td>83.615179</td>\n",
       "      <td>28.668136</td>\n",
       "    </tr>\n",
       "    <tr>\n",
       "      <th>std</th>\n",
       "      <td>8.405844</td>\n",
       "      <td>8.102687</td>\n",
       "      <td>1.440681</td>\n",
       "      <td>0.106654</td>\n",
       "      <td>21.323156</td>\n",
       "      <td>6.513973</td>\n",
       "    </tr>\n",
       "    <tr>\n",
       "      <th>min</th>\n",
       "      <td>0.000000</td>\n",
       "      <td>0.000000</td>\n",
       "      <td>1.000000</td>\n",
       "      <td>0.910000</td>\n",
       "      <td>28.120000</td>\n",
       "      <td>12.020000</td>\n",
       "    </tr>\n",
       "    <tr>\n",
       "      <th>25%</th>\n",
       "      <td>0.000000</td>\n",
       "      <td>0.000000</td>\n",
       "      <td>6.000000</td>\n",
       "      <td>1.630000</td>\n",
       "      <td>68.040000</td>\n",
       "      <td>24.270000</td>\n",
       "    </tr>\n",
       "    <tr>\n",
       "      <th>50%</th>\n",
       "      <td>0.000000</td>\n",
       "      <td>0.000000</td>\n",
       "      <td>7.000000</td>\n",
       "      <td>1.700000</td>\n",
       "      <td>81.650000</td>\n",
       "      <td>27.460000</td>\n",
       "    </tr>\n",
       "    <tr>\n",
       "      <th>75%</th>\n",
       "      <td>3.000000</td>\n",
       "      <td>4.000000</td>\n",
       "      <td>8.000000</td>\n",
       "      <td>1.780000</td>\n",
       "      <td>95.250000</td>\n",
       "      <td>31.890000</td>\n",
       "    </tr>\n",
       "    <tr>\n",
       "      <th>max</th>\n",
       "      <td>30.000000</td>\n",
       "      <td>30.000000</td>\n",
       "      <td>24.000000</td>\n",
       "      <td>2.410000</td>\n",
       "      <td>292.570000</td>\n",
       "      <td>97.650000</td>\n",
       "    </tr>\n",
       "  </tbody>\n",
       "</table>\n",
       "</div>"
      ],
      "text/plain": [
       "       PhysicalHealthDays  MentalHealthDays     SleepHours  HeightInMeters  \\\n",
       "count       246022.000000     246022.000000  246022.000000   246022.000000   \n",
       "mean             4.119026          4.167140       7.021331        1.705150   \n",
       "std              8.405844          8.102687       1.440681        0.106654   \n",
       "min              0.000000          0.000000       1.000000        0.910000   \n",
       "25%              0.000000          0.000000       6.000000        1.630000   \n",
       "50%              0.000000          0.000000       7.000000        1.700000   \n",
       "75%              3.000000          4.000000       8.000000        1.780000   \n",
       "max             30.000000         30.000000      24.000000        2.410000   \n",
       "\n",
       "       WeightInKilograms            BMI  \n",
       "count      246022.000000  246022.000000  \n",
       "mean           83.615179      28.668136  \n",
       "std            21.323156       6.513973  \n",
       "min            28.120000      12.020000  \n",
       "25%            68.040000      24.270000  \n",
       "50%            81.650000      27.460000  \n",
       "75%            95.250000      31.890000  \n",
       "max           292.570000      97.650000  "
      ]
     },
     "execution_count": 9,
     "metadata": {},
     "output_type": "execute_result"
    }
   ],
   "source": [
    "df.describe()"
   ]
  },
  {
   "cell_type": "code",
   "execution_count": 10,
   "metadata": {
    "execution": {
     "iopub.execute_input": "2024-03-19T19:12:37.621329Z",
     "iopub.status.busy": "2024-03-19T19:12:37.620858Z",
     "iopub.status.idle": "2024-03-19T19:12:38.015038Z",
     "shell.execute_reply": "2024-03-19T19:12:38.01302Z",
     "shell.execute_reply.started": "2024-03-19T19:12:37.621275Z"
    }
   },
   "outputs": [
    {
     "data": {
      "text/plain": [
       "State                          54\n",
       "Sex                             2\n",
       "GeneralHealth                   5\n",
       "PhysicalHealthDays             31\n",
       "MentalHealthDays               31\n",
       "LastCheckupTime                 4\n",
       "PhysicalActivities              2\n",
       "SleepHours                     23\n",
       "RemovedTeeth                    4\n",
       "HadHeartAttack                  2\n",
       "HadAngina                       2\n",
       "HadStroke                       2\n",
       "HadAsthma                       2\n",
       "HadSkinCancer                   2\n",
       "HadCOPD                         2\n",
       "HadDepressiveDisorder           2\n",
       "HadKidneyDisease                2\n",
       "HadArthritis                    2\n",
       "HadDiabetes                     4\n",
       "DeafOrHardOfHearing             2\n",
       "BlindOrVisionDifficulty         2\n",
       "DifficultyConcentrating         2\n",
       "DifficultyWalking               2\n",
       "DifficultyDressingBathing       2\n",
       "DifficultyErrands               2\n",
       "SmokerStatus                    4\n",
       "ECigaretteUsage                 4\n",
       "ChestScan                       2\n",
       "RaceEthnicityCategory           5\n",
       "AgeCategory                    13\n",
       "HeightInMeters                101\n",
       "WeightInKilograms             516\n",
       "BMI                          3514\n",
       "AlcoholDrinkers                 2\n",
       "HIVTesting                      2\n",
       "FluVaxLast12                    2\n",
       "PneumoVaxEver                   2\n",
       "TetanusLast10Tdap               4\n",
       "HighRiskLastYear                2\n",
       "CovidPos                        3\n",
       "dtype: int64"
      ]
     },
     "execution_count": 10,
     "metadata": {},
     "output_type": "execute_result"
    }
   ],
   "source": [
    "df.nunique()"
   ]
  },
  {
   "cell_type": "markdown",
   "metadata": {},
   "source": [
    "# **Data Visualization**"
   ]
  },
  {
   "cell_type": "code",
   "execution_count": 11,
   "metadata": {
    "execution": {
     "iopub.execute_input": "2024-03-19T19:12:38.02177Z",
     "iopub.status.busy": "2024-03-19T19:12:38.021356Z",
     "iopub.status.idle": "2024-03-19T19:12:38.030332Z",
     "shell.execute_reply": "2024-03-19T19:12:38.029055Z",
     "shell.execute_reply.started": "2024-03-19T19:12:38.021738Z"
    }
   },
   "outputs": [
    {
     "data": {
      "text/plain": [
       "Index(['State', 'Sex', 'GeneralHealth', 'PhysicalHealthDays',\n",
       "       'MentalHealthDays', 'LastCheckupTime', 'PhysicalActivities',\n",
       "       'SleepHours', 'RemovedTeeth', 'HadHeartAttack', 'HadAngina',\n",
       "       'HadStroke', 'HadAsthma', 'HadSkinCancer', 'HadCOPD',\n",
       "       'HadDepressiveDisorder', 'HadKidneyDisease', 'HadArthritis',\n",
       "       'HadDiabetes', 'DeafOrHardOfHearing', 'BlindOrVisionDifficulty',\n",
       "       'DifficultyConcentrating', 'DifficultyWalking',\n",
       "       'DifficultyDressingBathing', 'DifficultyErrands', 'SmokerStatus',\n",
       "       'ECigaretteUsage', 'ChestScan', 'RaceEthnicityCategory', 'AgeCategory',\n",
       "       'HeightInMeters', 'WeightInKilograms', 'BMI', 'AlcoholDrinkers',\n",
       "       'HIVTesting', 'FluVaxLast12', 'PneumoVaxEver', 'TetanusLast10Tdap',\n",
       "       'HighRiskLastYear', 'CovidPos'],\n",
       "      dtype='object')"
      ]
     },
     "execution_count": 11,
     "metadata": {},
     "output_type": "execute_result"
    }
   ],
   "source": [
    "df.columns"
   ]
  },
  {
   "cell_type": "code",
   "execution_count": 12,
   "metadata": {
    "execution": {
     "iopub.execute_input": "2024-03-19T19:12:38.032538Z",
     "iopub.status.busy": "2024-03-19T19:12:38.032069Z",
     "iopub.status.idle": "2024-03-19T19:12:38.05781Z",
     "shell.execute_reply": "2024-03-19T19:12:38.05654Z",
     "shell.execute_reply.started": "2024-03-19T19:12:38.032498Z"
    }
   },
   "outputs": [
    {
     "data": {
      "text/html": [
       "<div>\n",
       "<style scoped>\n",
       "    .dataframe tbody tr th:only-of-type {\n",
       "        vertical-align: middle;\n",
       "    }\n",
       "\n",
       "    .dataframe tbody tr th {\n",
       "        vertical-align: top;\n",
       "    }\n",
       "\n",
       "    .dataframe thead th {\n",
       "        text-align: right;\n",
       "    }\n",
       "</style>\n",
       "<table border=\"1\" class=\"dataframe\">\n",
       "  <thead>\n",
       "    <tr style=\"text-align: right;\">\n",
       "      <th></th>\n",
       "      <th>PhysicalHealthDays</th>\n",
       "      <th>MentalHealthDays</th>\n",
       "      <th>SleepHours</th>\n",
       "      <th>HeightInMeters</th>\n",
       "      <th>WeightInKilograms</th>\n",
       "      <th>BMI</th>\n",
       "    </tr>\n",
       "  </thead>\n",
       "  <tbody>\n",
       "    <tr>\n",
       "      <th>0</th>\n",
       "      <td>4.0</td>\n",
       "      <td>0.0</td>\n",
       "      <td>9.0</td>\n",
       "      <td>1.60</td>\n",
       "      <td>71.67</td>\n",
       "      <td>27.99</td>\n",
       "    </tr>\n",
       "    <tr>\n",
       "      <th>1</th>\n",
       "      <td>0.0</td>\n",
       "      <td>0.0</td>\n",
       "      <td>6.0</td>\n",
       "      <td>1.78</td>\n",
       "      <td>95.25</td>\n",
       "      <td>30.13</td>\n",
       "    </tr>\n",
       "    <tr>\n",
       "      <th>2</th>\n",
       "      <td>0.0</td>\n",
       "      <td>0.0</td>\n",
       "      <td>8.0</td>\n",
       "      <td>1.85</td>\n",
       "      <td>108.86</td>\n",
       "      <td>31.66</td>\n",
       "    </tr>\n",
       "    <tr>\n",
       "      <th>3</th>\n",
       "      <td>5.0</td>\n",
       "      <td>0.0</td>\n",
       "      <td>9.0</td>\n",
       "      <td>1.70</td>\n",
       "      <td>90.72</td>\n",
       "      <td>31.32</td>\n",
       "    </tr>\n",
       "    <tr>\n",
       "      <th>4</th>\n",
       "      <td>3.0</td>\n",
       "      <td>15.0</td>\n",
       "      <td>5.0</td>\n",
       "      <td>1.55</td>\n",
       "      <td>79.38</td>\n",
       "      <td>33.07</td>\n",
       "    </tr>\n",
       "    <tr>\n",
       "      <th>...</th>\n",
       "      <td>...</td>\n",
       "      <td>...</td>\n",
       "      <td>...</td>\n",
       "      <td>...</td>\n",
       "      <td>...</td>\n",
       "      <td>...</td>\n",
       "    </tr>\n",
       "    <tr>\n",
       "      <th>246017</th>\n",
       "      <td>0.0</td>\n",
       "      <td>0.0</td>\n",
       "      <td>6.0</td>\n",
       "      <td>1.78</td>\n",
       "      <td>102.06</td>\n",
       "      <td>32.28</td>\n",
       "    </tr>\n",
       "    <tr>\n",
       "      <th>246018</th>\n",
       "      <td>0.0</td>\n",
       "      <td>7.0</td>\n",
       "      <td>7.0</td>\n",
       "      <td>1.93</td>\n",
       "      <td>90.72</td>\n",
       "      <td>24.34</td>\n",
       "    </tr>\n",
       "    <tr>\n",
       "      <th>246019</th>\n",
       "      <td>0.0</td>\n",
       "      <td>15.0</td>\n",
       "      <td>7.0</td>\n",
       "      <td>1.68</td>\n",
       "      <td>83.91</td>\n",
       "      <td>29.86</td>\n",
       "    </tr>\n",
       "    <tr>\n",
       "      <th>246020</th>\n",
       "      <td>2.0</td>\n",
       "      <td>2.0</td>\n",
       "      <td>7.0</td>\n",
       "      <td>1.70</td>\n",
       "      <td>83.01</td>\n",
       "      <td>28.66</td>\n",
       "    </tr>\n",
       "    <tr>\n",
       "      <th>246021</th>\n",
       "      <td>0.0</td>\n",
       "      <td>0.0</td>\n",
       "      <td>5.0</td>\n",
       "      <td>1.83</td>\n",
       "      <td>108.86</td>\n",
       "      <td>32.55</td>\n",
       "    </tr>\n",
       "  </tbody>\n",
       "</table>\n",
       "<p>246022 rows × 6 columns</p>\n",
       "</div>"
      ],
      "text/plain": [
       "        PhysicalHealthDays  MentalHealthDays  SleepHours  HeightInMeters  \\\n",
       "0                      4.0               0.0         9.0            1.60   \n",
       "1                      0.0               0.0         6.0            1.78   \n",
       "2                      0.0               0.0         8.0            1.85   \n",
       "3                      5.0               0.0         9.0            1.70   \n",
       "4                      3.0              15.0         5.0            1.55   \n",
       "...                    ...               ...         ...             ...   \n",
       "246017                 0.0               0.0         6.0            1.78   \n",
       "246018                 0.0               7.0         7.0            1.93   \n",
       "246019                 0.0              15.0         7.0            1.68   \n",
       "246020                 2.0               2.0         7.0            1.70   \n",
       "246021                 0.0               0.0         5.0            1.83   \n",
       "\n",
       "        WeightInKilograms    BMI  \n",
       "0                   71.67  27.99  \n",
       "1                   95.25  30.13  \n",
       "2                  108.86  31.66  \n",
       "3                   90.72  31.32  \n",
       "4                   79.38  33.07  \n",
       "...                   ...    ...  \n",
       "246017             102.06  32.28  \n",
       "246018              90.72  24.34  \n",
       "246019              83.91  29.86  \n",
       "246020              83.01  28.66  \n",
       "246021             108.86  32.55  \n",
       "\n",
       "[246022 rows x 6 columns]"
      ]
     },
     "execution_count": 12,
     "metadata": {},
     "output_type": "execute_result"
    }
   ],
   "source": [
    "numeric=df.select_dtypes(exclude='O')\n",
    "numeric"
   ]
  },
  {
   "cell_type": "code",
   "execution_count": 13,
   "metadata": {
    "execution": {
     "iopub.execute_input": "2024-03-19T19:12:38.059973Z",
     "iopub.status.busy": "2024-03-19T19:12:38.059459Z",
     "iopub.status.idle": "2024-03-19T19:12:38.560693Z",
     "shell.execute_reply": "2024-03-19T19:12:38.559432Z",
     "shell.execute_reply.started": "2024-03-19T19:12:38.05991Z"
    }
   },
   "outputs": [
    {
     "data": {
      "image/png": "[encoded data removed]",
      "text/plain": [
       "<Figure size 1000x600 with 2 Axes>"
      ]
     },
     "metadata": {},
     "output_type": "display_data"
    }
   ],
   "source": [
    "plt.figure(figsize = (10,6))\n",
    "sns.heatmap(data=numeric.corr(),annot=True,cmap ='Blues');"
   ]
  },
  {
   "cell_type": "code",
   "execution_count": 17,
   "metadata": {
    "execution": {
     "iopub.execute_input": "2024-03-19T19:12:38.563226Z",
     "iopub.status.busy": "2024-03-19T19:12:38.562151Z",
     "iopub.status.idle": "2024-03-19T19:12:39.142222Z",
     "shell.execute_reply": "2024-03-19T19:12:39.140963Z",
     "shell.execute_reply.started": "2024-03-19T19:12:38.563184Z"
    }
   },
   "outputs": [
    {
     "ename": "ValueError",
     "evalue": "Could not interpret input 'HeartDisease'",
     "output_type": "error",
     "traceback": [
      "\u001b[0;31m---------------------------------------------------------------------------\u001b[0m",
      "\u001b[0;31mValueError\u001b[0m                                Traceback (most recent call last)",
      "Cell \u001b[0;32mIn[17], line 1\u001b[0m\n\u001b[0;32m----> 1\u001b[0m sns\u001b[38;5;241m.\u001b[39mcountplot(x \u001b[38;5;241m=\u001b[39m \u001b[38;5;124m'\u001b[39m\u001b[38;5;124mHeartDisease\u001b[39m\u001b[38;5;124m'\u001b[39m, data \u001b[38;5;241m=\u001b[39m df)\n\u001b[1;32m      2\u001b[0m plt\u001b[38;5;241m.\u001b[39mshow()\n",
      "File \u001b[0;32m~/anaconda3/lib/python3.11/site-packages/seaborn/categorical.py:2943\u001b[0m, in \u001b[0;36mcountplot\u001b[0;34m(data, x, y, hue, order, hue_order, orient, color, palette, saturation, width, dodge, ax, **kwargs)\u001b[0m\n\u001b[1;32m   2940\u001b[0m \u001b[38;5;28;01melif\u001b[39;00m x \u001b[38;5;129;01mis\u001b[39;00m \u001b[38;5;129;01mnot\u001b[39;00m \u001b[38;5;28;01mNone\u001b[39;00m \u001b[38;5;129;01mand\u001b[39;00m y \u001b[38;5;129;01mis\u001b[39;00m \u001b[38;5;129;01mnot\u001b[39;00m \u001b[38;5;28;01mNone\u001b[39;00m:\n\u001b[1;32m   2941\u001b[0m     \u001b[38;5;28;01mraise\u001b[39;00m \u001b[38;5;167;01mValueError\u001b[39;00m(\u001b[38;5;124m\"\u001b[39m\u001b[38;5;124mCannot pass values for both `x` and `y`\u001b[39m\u001b[38;5;124m\"\u001b[39m)\n\u001b[0;32m-> 2943\u001b[0m plotter \u001b[38;5;241m=\u001b[39m _CountPlotter(\n\u001b[1;32m   2944\u001b[0m     x, y, hue, data, order, hue_order,\n\u001b[1;32m   2945\u001b[0m     estimator, errorbar, n_boot, units, seed,\n\u001b[1;32m   2946\u001b[0m     orient, color, palette, saturation,\n\u001b[1;32m   2947\u001b[0m     width, errcolor, errwidth, capsize, dodge\n\u001b[1;32m   2948\u001b[0m )\n\u001b[1;32m   2950\u001b[0m plotter\u001b[38;5;241m.\u001b[39mvalue_label \u001b[38;5;241m=\u001b[39m \u001b[38;5;124m\"\u001b[39m\u001b[38;5;124mcount\u001b[39m\u001b[38;5;124m\"\u001b[39m\n\u001b[1;32m   2952\u001b[0m \u001b[38;5;28;01mif\u001b[39;00m ax \u001b[38;5;129;01mis\u001b[39;00m \u001b[38;5;28;01mNone\u001b[39;00m:\n",
      "File \u001b[0;32m~/anaconda3/lib/python3.11/site-packages/seaborn/categorical.py:1530\u001b[0m, in \u001b[0;36m_BarPlotter.__init__\u001b[0;34m(self, x, y, hue, data, order, hue_order, estimator, errorbar, n_boot, units, seed, orient, color, palette, saturation, width, errcolor, errwidth, capsize, dodge)\u001b[0m\n\u001b[1;32m   1525\u001b[0m \u001b[38;5;28;01mdef\u001b[39;00m \u001b[38;5;21m__init__\u001b[39m(\u001b[38;5;28mself\u001b[39m, x, y, hue, data, order, hue_order,\n\u001b[1;32m   1526\u001b[0m              estimator, errorbar, n_boot, units, seed,\n\u001b[1;32m   1527\u001b[0m              orient, color, palette, saturation, width,\n\u001b[1;32m   1528\u001b[0m              errcolor, errwidth, capsize, dodge):\n\u001b[1;32m   1529\u001b[0m \u001b[38;5;250m    \u001b[39m\u001b[38;5;124;03m\"\"\"Initialize the plotter.\"\"\"\u001b[39;00m\n\u001b[0;32m-> 1530\u001b[0m     \u001b[38;5;28mself\u001b[39m\u001b[38;5;241m.\u001b[39mestablish_variables(x, y, hue, data, orient,\n\u001b[1;32m   1531\u001b[0m                              order, hue_order, units)\n\u001b[1;32m   1532\u001b[0m     \u001b[38;5;28mself\u001b[39m\u001b[38;5;241m.\u001b[39mestablish_colors(color, palette, saturation)\n\u001b[1;32m   1533\u001b[0m     \u001b[38;5;28mself\u001b[39m\u001b[38;5;241m.\u001b[39mestimate_statistic(estimator, errorbar, n_boot, seed)\n",
      "File \u001b[0;32m~/anaconda3/lib/python3.11/site-packages/seaborn/categorical.py:541\u001b[0m, in \u001b[0;36m_CategoricalPlotter.establish_variables\u001b[0;34m(self, x, y, hue, data, orient, order, hue_order, units)\u001b[0m\n\u001b[1;32m    539\u001b[0m     \u001b[38;5;28;01mif\u001b[39;00m \u001b[38;5;28misinstance\u001b[39m(var, \u001b[38;5;28mstr\u001b[39m):\n\u001b[1;32m    540\u001b[0m         err \u001b[38;5;241m=\u001b[39m \u001b[38;5;124mf\u001b[39m\u001b[38;5;124m\"\u001b[39m\u001b[38;5;124mCould not interpret input \u001b[39m\u001b[38;5;124m'\u001b[39m\u001b[38;5;132;01m{\u001b[39;00mvar\u001b[38;5;132;01m}\u001b[39;00m\u001b[38;5;124m'\u001b[39m\u001b[38;5;124m\"\u001b[39m\n\u001b[0;32m--> 541\u001b[0m         \u001b[38;5;28;01mraise\u001b[39;00m \u001b[38;5;167;01mValueError\u001b[39;00m(err)\n\u001b[1;32m    543\u001b[0m \u001b[38;5;66;03m# Figure out the plotting orientation\u001b[39;00m\n\u001b[1;32m    544\u001b[0m orient \u001b[38;5;241m=\u001b[39m infer_orient(\n\u001b[1;32m    545\u001b[0m     x, y, orient, require_numeric\u001b[38;5;241m=\u001b[39m\u001b[38;5;28mself\u001b[39m\u001b[38;5;241m.\u001b[39mrequire_numeric\n\u001b[1;32m    546\u001b[0m )\n",
      "\u001b[0;31mValueError\u001b[0m: Could not interpret input 'HeartDisease'"
     ]
    }
   ],
   "source": [
    "sns.countplot(x = 'HeartDisease', data = df)\n",
    "plt.show()"
   ]
  },
  {
   "cell_type": "code",
   "execution_count": null,
   "metadata": {
    "execution": {
     "iopub.execute_input": "2024-03-19T19:12:39.143959Z",
     "iopub.status.busy": "2024-03-19T19:12:39.143576Z",
     "iopub.status.idle": "2024-03-19T19:12:40.43387Z",
     "shell.execute_reply": "2024-03-19T19:12:40.432658Z",
     "shell.execute_reply.started": "2024-03-19T19:12:39.143925Z"
    }
   },
   "outputs": [],
   "source": [
    "sns.histplot(df, x = \"BMI\", hue = \"HeartDisease\",bins=20, legend=True)"
   ]
  },
  {
   "cell_type": "markdown",
   "metadata": {},
   "source": [
    "**With BMI values ranging between 20 and 30 the number of patients possibly having heart disease is less.**"
   ]
  },
  {
   "cell_type": "code",
   "execution_count": 15,
   "metadata": {
    "execution": {
     "iopub.execute_input": "2024-03-19T19:12:40.43565Z",
     "iopub.status.busy": "2024-03-19T19:12:40.435246Z",
     "iopub.status.idle": "2024-03-19T19:12:40.471439Z",
     "shell.execute_reply": "2024-03-19T19:12:40.470109Z",
     "shell.execute_reply.started": "2024-03-19T19:12:40.435586Z"
    }
   },
   "outputs": [
    {
     "data": {
      "text/plain": [
       "Index(['State', 'Sex', 'GeneralHealth', 'LastCheckupTime',\n",
       "       'PhysicalActivities', 'RemovedTeeth', 'HadHeartAttack', 'HadAngina',\n",
       "       'HadStroke', 'HadAsthma', 'HadSkinCancer', 'HadCOPD',\n",
       "       'HadDepressiveDisorder', 'HadKidneyDisease', 'HadArthritis',\n",
       "       'HadDiabetes', 'DeafOrHardOfHearing', 'BlindOrVisionDifficulty',\n",
       "       'DifficultyConcentrating', 'DifficultyWalking',\n",
       "       'DifficultyDressingBathing', 'DifficultyErrands', 'SmokerStatus',\n",
       "       'ECigaretteUsage', 'ChestScan', 'RaceEthnicityCategory', 'AgeCategory',\n",
       "       'AlcoholDrinkers', 'HIVTesting', 'FluVaxLast12', 'PneumoVaxEver',\n",
       "       'TetanusLast10Tdap', 'HighRiskLastYear', 'CovidPos'],\n",
       "      dtype='object')"
      ]
     },
     "execution_count": 15,
     "metadata": {},
     "output_type": "execute_result"
    }
   ],
   "source": [
    "categorical = df.select_dtypes(include = 'O')\n",
    "categorical.columns"
   ]
  },
  {
   "cell_type": "code",
   "execution_count": 16,
   "metadata": {
    "execution": {
     "iopub.execute_input": "2024-03-19T19:12:40.474161Z",
     "iopub.status.busy": "2024-03-19T19:12:40.473362Z",
     "iopub.status.idle": "2024-03-19T19:12:52.705393Z",
     "shell.execute_reply": "2024-03-19T19:12:52.703997Z",
     "shell.execute_reply.started": "2024-03-19T19:12:40.474106Z"
    }
   },
   "outputs": [
    {
     "ename": "ValueError",
     "evalue": "Could not interpret input 'HeartDisease'",
     "output_type": "error",
     "traceback": [
      "\u001b[0;31m---------------------------------------------------------------------------\u001b[0m",
      "\u001b[0;31mValueError\u001b[0m                                Traceback (most recent call last)",
      "Cell \u001b[0;32mIn[16], line 5\u001b[0m\n\u001b[1;32m      3\u001b[0m \u001b[38;5;28;01mfor\u001b[39;00m feature \u001b[38;5;129;01min\u001b[39;00m categorical:\n\u001b[1;32m      4\u001b[0m     plt\u001b[38;5;241m.\u001b[39msubplot(\u001b[38;5;241m6\u001b[39m,\u001b[38;5;241m3\u001b[39m,i)\n\u001b[0;32m----> 5\u001b[0m     sns\u001b[38;5;241m.\u001b[39mcountplot(x \u001b[38;5;241m=\u001b[39m feature,hue \u001b[38;5;241m=\u001b[39m \u001b[38;5;124m'\u001b[39m\u001b[38;5;124mHeartDisease\u001b[39m\u001b[38;5;124m'\u001b[39m , data \u001b[38;5;241m=\u001b[39m df)\n\u001b[1;32m      6\u001b[0m     i \u001b[38;5;241m+\u001b[39m\u001b[38;5;241m=\u001b[39m \u001b[38;5;241m1\u001b[39m\n",
      "File \u001b[0;32m~/anaconda3/lib/python3.11/site-packages/seaborn/categorical.py:2943\u001b[0m, in \u001b[0;36mcountplot\u001b[0;34m(data, x, y, hue, order, hue_order, orient, color, palette, saturation, width, dodge, ax, **kwargs)\u001b[0m\n\u001b[1;32m   2940\u001b[0m \u001b[38;5;28;01melif\u001b[39;00m x \u001b[38;5;129;01mis\u001b[39;00m \u001b[38;5;129;01mnot\u001b[39;00m \u001b[38;5;28;01mNone\u001b[39;00m \u001b[38;5;129;01mand\u001b[39;00m y \u001b[38;5;129;01mis\u001b[39;00m \u001b[38;5;129;01mnot\u001b[39;00m \u001b[38;5;28;01mNone\u001b[39;00m:\n\u001b[1;32m   2941\u001b[0m     \u001b[38;5;28;01mraise\u001b[39;00m \u001b[38;5;167;01mValueError\u001b[39;00m(\u001b[38;5;124m\"\u001b[39m\u001b[38;5;124mCannot pass values for both `x` and `y`\u001b[39m\u001b[38;5;124m\"\u001b[39m)\n\u001b[0;32m-> 2943\u001b[0m plotter \u001b[38;5;241m=\u001b[39m _CountPlotter(\n\u001b[1;32m   2944\u001b[0m     x, y, hue, data, order, hue_order,\n\u001b[1;32m   2945\u001b[0m     estimator, errorbar, n_boot, units, seed,\n\u001b[1;32m   2946\u001b[0m     orient, color, palette, saturation,\n\u001b[1;32m   2947\u001b[0m     width, errcolor, errwidth, capsize, dodge\n\u001b[1;32m   2948\u001b[0m )\n\u001b[1;32m   2950\u001b[0m plotter\u001b[38;5;241m.\u001b[39mvalue_label \u001b[38;5;241m=\u001b[39m \u001b[38;5;124m\"\u001b[39m\u001b[38;5;124mcount\u001b[39m\u001b[38;5;124m\"\u001b[39m\n\u001b[1;32m   2952\u001b[0m \u001b[38;5;28;01mif\u001b[39;00m ax \u001b[38;5;129;01mis\u001b[39;00m \u001b[38;5;28;01mNone\u001b[39;00m:\n",
      "File \u001b[0;32m~/anaconda3/lib/python3.11/site-packages/seaborn/categorical.py:1530\u001b[0m, in \u001b[0;36m_BarPlotter.__init__\u001b[0;34m(self, x, y, hue, data, order, hue_order, estimator, errorbar, n_boot, units, seed, orient, color, palette, saturation, width, errcolor, errwidth, capsize, dodge)\u001b[0m\n\u001b[1;32m   1525\u001b[0m \u001b[38;5;28;01mdef\u001b[39;00m \u001b[38;5;21m__init__\u001b[39m(\u001b[38;5;28mself\u001b[39m, x, y, hue, data, order, hue_order,\n\u001b[1;32m   1526\u001b[0m              estimator, errorbar, n_boot, units, seed,\n\u001b[1;32m   1527\u001b[0m              orient, color, palette, saturation, width,\n\u001b[1;32m   1528\u001b[0m              errcolor, errwidth, capsize, dodge):\n\u001b[1;32m   1529\u001b[0m \u001b[38;5;250m    \u001b[39m\u001b[38;5;124;03m\"\"\"Initialize the plotter.\"\"\"\u001b[39;00m\n\u001b[0;32m-> 1530\u001b[0m     \u001b[38;5;28mself\u001b[39m\u001b[38;5;241m.\u001b[39mestablish_variables(x, y, hue, data, orient,\n\u001b[1;32m   1531\u001b[0m                              order, hue_order, units)\n\u001b[1;32m   1532\u001b[0m     \u001b[38;5;28mself\u001b[39m\u001b[38;5;241m.\u001b[39mestablish_colors(color, palette, saturation)\n\u001b[1;32m   1533\u001b[0m     \u001b[38;5;28mself\u001b[39m\u001b[38;5;241m.\u001b[39mestimate_statistic(estimator, errorbar, n_boot, seed)\n",
      "File \u001b[0;32m~/anaconda3/lib/python3.11/site-packages/seaborn/categorical.py:541\u001b[0m, in \u001b[0;36m_CategoricalPlotter.establish_variables\u001b[0;34m(self, x, y, hue, data, orient, order, hue_order, units)\u001b[0m\n\u001b[1;32m    539\u001b[0m     \u001b[38;5;28;01mif\u001b[39;00m \u001b[38;5;28misinstance\u001b[39m(var, \u001b[38;5;28mstr\u001b[39m):\n\u001b[1;32m    540\u001b[0m         err \u001b[38;5;241m=\u001b[39m \u001b[38;5;124mf\u001b[39m\u001b[38;5;124m\"\u001b[39m\u001b[38;5;124mCould not interpret input \u001b[39m\u001b[38;5;124m'\u001b[39m\u001b[38;5;132;01m{\u001b[39;00mvar\u001b[38;5;132;01m}\u001b[39;00m\u001b[38;5;124m'\u001b[39m\u001b[38;5;124m\"\u001b[39m\n\u001b[0;32m--> 541\u001b[0m         \u001b[38;5;28;01mraise\u001b[39;00m \u001b[38;5;167;01mValueError\u001b[39;00m(err)\n\u001b[1;32m    543\u001b[0m \u001b[38;5;66;03m# Figure out the plotting orientation\u001b[39;00m\n\u001b[1;32m    544\u001b[0m orient \u001b[38;5;241m=\u001b[39m infer_orient(\n\u001b[1;32m    545\u001b[0m     x, y, orient, require_numeric\u001b[38;5;241m=\u001b[39m\u001b[38;5;28mself\u001b[39m\u001b[38;5;241m.\u001b[39mrequire_numeric\n\u001b[1;32m    546\u001b[0m )\n",
      "\u001b[0;31mValueError\u001b[0m: Could not interpret input 'HeartDisease'"
     ]
    },
    {
     "data": {
      "image/png": "[encoded data removed]",
      "text/plain": [
       "<Figure size 3000x2500 with 1 Axes>"
      ]
     },
     "metadata": {},
     "output_type": "display_data"
    }
   ],
   "source": [
    "i = 1\n",
    "plt.figure(figsize = (30,25))\n",
    "for feature in categorical:\n",
    "    plt.subplot(6,3,i)\n",
    "    sns.countplot(x = feature,hue = 'HeartDisease' , data = df)\n",
    "    i += 1"
   ]
  },
  {
   "cell_type": "markdown",
   "metadata": {},
   "source": [
    "From the plot we can observe that:\n",
    "\n",
    "People who smoke have higher chances of heart diesease than no smokers\n",
    "\n",
    "Male are more prone to suffer from heart diseases as compared to females\n",
    "\n",
    "People with age limit in between 55-75 has higher chances of getting heart diseases\n",
    "\n",
    "If person has difficulty in walking or climbing stairs there is a high probability that he or she is suffering from some heart disease"
   ]
  },
  {
   "cell_type": "markdown",
   "metadata": {},
   "source": [
    "# **Feature Engineering**"
   ]
  },
  {
   "cell_type": "code",
   "execution_count": null,
   "metadata": {
    "execution": {
     "iopub.execute_input": "2024-03-19T19:12:52.707483Z",
     "iopub.status.busy": "2024-03-19T19:12:52.707049Z",
     "iopub.status.idle": "2024-03-19T19:12:52.763357Z",
     "shell.execute_reply": "2024-03-19T19:12:52.762159Z",
     "shell.execute_reply.started": "2024-03-19T19:12:52.707445Z"
    }
   },
   "outputs": [],
   "source": [
    "df1 = df.copy()"
   ]
  },
  {
   "cell_type": "code",
   "execution_count": null,
   "metadata": {
    "execution": {
     "iopub.execute_input": "2024-03-19T19:12:52.765009Z",
     "iopub.status.busy": "2024-03-19T19:12:52.764654Z",
     "iopub.status.idle": "2024-03-19T19:12:52.797796Z",
     "shell.execute_reply": "2024-03-19T19:12:52.796685Z",
     "shell.execute_reply.started": "2024-03-19T19:12:52.764979Z"
    }
   },
   "outputs": [],
   "source": [
    "df"
   ]
  },
  {
   "cell_type": "code",
   "execution_count": null,
   "metadata": {
    "execution": {
     "iopub.execute_input": "2024-03-19T19:12:52.799643Z",
     "iopub.status.busy": "2024-03-19T19:12:52.799287Z",
     "iopub.status.idle": "2024-03-19T19:12:52.808935Z",
     "shell.execute_reply": "2024-03-19T19:12:52.807696Z",
     "shell.execute_reply.started": "2024-03-19T19:12:52.799591Z"
    }
   },
   "outputs": [],
   "source": [
    "df.dtypes"
   ]
  },
  {
   "cell_type": "code",
   "execution_count": null,
   "metadata": {
    "execution": {
     "iopub.execute_input": "2024-03-19T19:12:52.811221Z",
     "iopub.status.busy": "2024-03-19T19:12:52.810728Z",
     "iopub.status.idle": "2024-03-19T19:12:52.847816Z",
     "shell.execute_reply": "2024-03-19T19:12:52.846482Z",
     "shell.execute_reply.started": "2024-03-19T19:12:52.811167Z"
    }
   },
   "outputs": [],
   "source": [
    "df['Race'].unique()"
   ]
  },
  {
   "cell_type": "code",
   "execution_count": null,
   "metadata": {
    "execution": {
     "iopub.execute_input": "2024-03-19T19:12:52.849805Z",
     "iopub.status.busy": "2024-03-19T19:12:52.849386Z",
     "iopub.status.idle": "2024-03-19T19:12:52.887831Z",
     "shell.execute_reply": "2024-03-19T19:12:52.886502Z",
     "shell.execute_reply.started": "2024-03-19T19:12:52.849772Z"
    }
   },
   "outputs": [],
   "source": [
    "df['GenHealth'].unique()"
   ]
  },
  {
   "cell_type": "code",
   "execution_count": null,
   "metadata": {
    "execution": {
     "iopub.execute_input": "2024-03-19T19:12:52.890403Z",
     "iopub.status.busy": "2024-03-19T19:12:52.88959Z",
     "iopub.status.idle": "2024-03-19T19:12:52.896207Z",
     "shell.execute_reply": "2024-03-19T19:12:52.89485Z",
     "shell.execute_reply.started": "2024-03-19T19:12:52.890355Z"
    }
   },
   "outputs": [],
   "source": [
    "le=LabelEncoder()"
   ]
  },
  {
   "cell_type": "code",
   "execution_count": null,
   "metadata": {
    "execution": {
     "iopub.execute_input": "2024-03-19T19:12:52.897807Z",
     "iopub.status.busy": "2024-03-19T19:12:52.897437Z",
     "iopub.status.idle": "2024-03-19T19:12:54.24245Z",
     "shell.execute_reply": "2024-03-19T19:12:54.241085Z",
     "shell.execute_reply.started": "2024-03-19T19:12:52.897775Z"
    }
   },
   "outputs": [],
   "source": [
    "i = 1\n",
    "for feature in categorical:\n",
    "    df1[feature]=le.fit_transform(df1[feature])\n",
    "    i += 1\n",
    "    print(feature)"
   ]
  },
  {
   "cell_type": "code",
   "execution_count": null,
   "metadata": {
    "execution": {
     "iopub.execute_input": "2024-03-19T19:12:54.244094Z",
     "iopub.status.busy": "2024-03-19T19:12:54.243722Z",
     "iopub.status.idle": "2024-03-19T19:12:54.253738Z",
     "shell.execute_reply": "2024-03-19T19:12:54.252699Z",
     "shell.execute_reply.started": "2024-03-19T19:12:54.244066Z"
    }
   },
   "outputs": [],
   "source": [
    "df1.dtypes"
   ]
  },
  {
   "cell_type": "code",
   "execution_count": null,
   "metadata": {
    "execution": {
     "iopub.execute_input": "2024-03-19T19:12:54.260178Z",
     "iopub.status.busy": "2024-03-19T19:12:54.25974Z",
     "iopub.status.idle": "2024-03-19T19:12:54.283184Z",
     "shell.execute_reply": "2024-03-19T19:12:54.281771Z",
     "shell.execute_reply.started": "2024-03-19T19:12:54.260145Z"
    }
   },
   "outputs": [],
   "source": [
    "df1.head()"
   ]
  },
  {
   "cell_type": "markdown",
   "metadata": {},
   "source": [
    "# **Train-test split**"
   ]
  },
  {
   "cell_type": "code",
   "execution_count": null,
   "metadata": {
    "execution": {
     "iopub.execute_input": "2024-03-19T19:12:54.285819Z",
     "iopub.status.busy": "2024-03-19T19:12:54.285274Z",
     "iopub.status.idle": "2024-03-19T19:12:54.559065Z",
     "shell.execute_reply": "2024-03-19T19:12:54.557964Z",
     "shell.execute_reply.started": "2024-03-19T19:12:54.285772Z"
    }
   },
   "outputs": [],
   "source": [
    "X=df1.drop('HeartDisease',axis=1)\n",
    "y=df1['HeartDisease']\n",
    "X_train, X_test, y_train, y_test = train_test_split(X, y, test_size = 0.2,stratify=df1['HeartDisease'])\n"
   ]
  },
  {
   "cell_type": "markdown",
   "metadata": {},
   "source": [
    "# **Scaling**"
   ]
  },
  {
   "cell_type": "code",
   "execution_count": null,
   "metadata": {
    "execution": {
     "iopub.execute_input": "2024-03-19T19:12:54.561283Z",
     "iopub.status.busy": "2024-03-19T19:12:54.560888Z",
     "iopub.status.idle": "2024-03-19T19:12:54.677649Z",
     "shell.execute_reply": "2024-03-19T19:12:54.676398Z",
     "shell.execute_reply.started": "2024-03-19T19:12:54.561237Z"
    }
   },
   "outputs": [],
   "source": [
    "ss = StandardScaler()\n",
    "X_train = ss.fit_transform(X_train)\n",
    "X_test = ss.transform(X_test)"
   ]
  },
  {
   "cell_type": "markdown",
   "metadata": {},
   "source": [
    "# **Logistic Regression**"
   ]
  },
  {
   "cell_type": "code",
   "execution_count": null,
   "metadata": {
    "execution": {
     "iopub.execute_input": "2024-03-19T19:12:54.679749Z",
     "iopub.status.busy": "2024-03-19T19:12:54.679263Z",
     "iopub.status.idle": "2024-03-19T19:12:55.18852Z",
     "shell.execute_reply": "2024-03-19T19:12:55.186669Z",
     "shell.execute_reply.started": "2024-03-19T19:12:54.679708Z"
    }
   },
   "outputs": [],
   "source": [
    "log_reg = LogisticRegression()\n",
    "log_reg.fit(X_train,y_train)"
   ]
  },
  {
   "cell_type": "code",
   "execution_count": null,
   "metadata": {
    "execution": {
     "iopub.execute_input": "2024-03-19T19:12:55.192544Z",
     "iopub.status.busy": "2024-03-19T19:12:55.191318Z",
     "iopub.status.idle": "2024-03-19T19:12:55.259206Z",
     "shell.execute_reply": "2024-03-19T19:12:55.257732Z",
     "shell.execute_reply.started": "2024-03-19T19:12:55.192479Z"
    }
   },
   "outputs": [],
   "source": [
    "acc=log_reg.score(X_train,y_train)\n",
    "acc"
   ]
  },
  {
   "cell_type": "code",
   "execution_count": null,
   "metadata": {
    "execution": {
     "iopub.execute_input": "2024-03-19T19:12:55.263136Z",
     "iopub.status.busy": "2024-03-19T19:12:55.261957Z",
     "iopub.status.idle": "2024-03-19T19:12:55.274402Z",
     "shell.execute_reply": "2024-03-19T19:12:55.272626Z",
     "shell.execute_reply.started": "2024-03-19T19:12:55.263078Z"
    }
   },
   "outputs": [],
   "source": [
    "# Check for prediction results\n",
    "y_pred = log_reg.predict(X_test)"
   ]
  },
  {
   "cell_type": "code",
   "execution_count": null,
   "metadata": {
    "execution": {
     "iopub.execute_input": "2024-03-19T19:12:55.278998Z",
     "iopub.status.busy": "2024-03-19T19:12:55.277685Z",
     "iopub.status.idle": "2024-03-19T19:12:55.290475Z",
     "shell.execute_reply": "2024-03-19T19:12:55.288974Z",
     "shell.execute_reply.started": "2024-03-19T19:12:55.278932Z"
    }
   },
   "outputs": [],
   "source": [
    "log_reg.coef_,log_reg.intercept_"
   ]
  },
  {
   "cell_type": "code",
   "execution_count": null,
   "metadata": {
    "execution": {
     "iopub.execute_input": "2024-03-19T19:12:55.294679Z",
     "iopub.status.busy": "2024-03-19T19:12:55.293481Z",
     "iopub.status.idle": "2024-03-19T19:12:55.306307Z",
     "shell.execute_reply": "2024-03-19T19:12:55.304696Z",
     "shell.execute_reply.started": "2024-03-19T19:12:55.294578Z"
    }
   },
   "outputs": [],
   "source": [
    "column_labels = X.columns.tolist()\n",
    "coef = log_reg.coef_.squeeze().tolist()\n",
    "intercept=log_reg.intercept_.squeeze().tolist()"
   ]
  },
  {
   "cell_type": "code",
   "execution_count": null,
   "metadata": {
    "execution": {
     "iopub.execute_input": "2024-03-19T19:12:55.31025Z",
     "iopub.status.busy": "2024-03-19T19:12:55.308927Z",
     "iopub.status.idle": "2024-03-19T19:12:55.328216Z",
     "shell.execute_reply": "2024-03-19T19:12:55.32587Z",
     "shell.execute_reply.started": "2024-03-19T19:12:55.310184Z"
    }
   },
   "outputs": [],
   "source": [
    "labels_coef = list(zip(column_labels, coef))\n",
    "for i in labels_coef:\n",
    "    print(i,intercept)"
   ]
  },
  {
   "cell_type": "markdown",
   "metadata": {},
   "source": [
    "**From the above set of coefficents we see that BMI, Smoking, Stroke, PhysicalHealth, MentalHealth, DiffWalking, Sex, AgeCategory, Race, Diabetic, Asthma and Kidney Disease are the features which help in predicting whether or not the person can have heart disease or not.**"
   ]
  },
  {
   "cell_type": "markdown",
   "metadata": {},
   "source": [
    "# **Metrics**"
   ]
  },
  {
   "cell_type": "code",
   "execution_count": null,
   "metadata": {
    "execution": {
     "iopub.execute_input": "2024-03-19T19:12:55.332257Z",
     "iopub.status.busy": "2024-03-19T19:12:55.331071Z",
     "iopub.status.idle": "2024-03-19T19:12:55.390856Z",
     "shell.execute_reply": "2024-03-19T19:12:55.389268Z",
     "shell.execute_reply.started": "2024-03-19T19:12:55.332195Z"
    }
   },
   "outputs": [],
   "source": [
    "# Check for accuray of the model\n",
    "accuracy=log_reg.score(X_test,y_test)\n",
    "accuracy"
   ]
  },
  {
   "cell_type": "code",
   "execution_count": null,
   "metadata": {
    "execution": {
     "iopub.execute_input": "2024-03-19T19:12:55.394597Z",
     "iopub.status.busy": "2024-03-19T19:12:55.393476Z",
     "iopub.status.idle": "2024-03-19T19:12:55.454032Z",
     "shell.execute_reply": "2024-03-19T19:12:55.452164Z",
     "shell.execute_reply.started": "2024-03-19T19:12:55.394537Z"
    }
   },
   "outputs": [],
   "source": [
    "confusion_matrix(y_test,y_pred)"
   ]
  },
  {
   "cell_type": "code",
   "execution_count": null,
   "metadata": {
    "execution": {
     "iopub.execute_input": "2024-03-19T19:16:08.793032Z",
     "iopub.status.busy": "2024-03-19T19:16:08.792626Z",
     "iopub.status.idle": "2024-03-19T19:16:08.892656Z",
     "shell.execute_reply": "2024-03-19T19:16:08.890776Z",
     "shell.execute_reply.started": "2024-03-19T19:16:08.793Z"
    }
   },
   "outputs": [],
   "source": [
    "print(classification_report(y_test,y_pred))"
   ]
  },
  {
   "cell_type": "markdown",
   "metadata": {},
   "source": [
    "**We see that accuracy is 0.91, but recall for class-1 is quite low due to class imbalance**"
   ]
  },
  {
   "cell_type": "markdown",
   "metadata": {},
   "source": [
    "# **Conclusions:**"
   ]
  },
  {
   "cell_type": "markdown",
   "metadata": {},
   "source": [
    "**From EDA:-**\n",
    "\n",
    "With BMI values ranging between 20 and 29.99 the number of patients possibly having heart disease is less.\n",
    "\n",
    "The values above or below this range show a trend that the patients possibility to not have heart disease is decreasing.\n",
    "\n",
    "*From the plot we can observe that:*\n",
    "\n",
    "People who smoke have higher chances of heart diesease than no smokers.\n",
    "\n",
    "Male are more prone to suffer from heart diseases as compared to females.\n",
    "\n",
    "People with age limit in between 55-75 has higher chances of getting heart diseases.\n",
    "\n",
    "If person has difficulty in walking or climbing stairs there is a high probability that he or she is suffering from some heart disease."
   ]
  },
  {
   "cell_type": "markdown",
   "metadata": {},
   "source": [
    "**From Model:-**\n",
    "\n",
    "BMI, Smoking, Stroke, PhysicalHealth, MentalHealth, DiffWalking, Sex, AgeCategory, Race, Diabetic, Asthma and Kidney Disease are the features which help in predicting whether or not the person can have heart disease or not.\n",
    "\n",
    "We see that accuracy is 0.91, but recall for class 1 is quite low due to class imbalance.\n",
    "\n",
    "It is not able to correctly classify whether the individual has Heart Disease or not with an accuracy."
   ]
  }
 ],
 "metadata": {
  "kaggle": {
   "accelerator": "none",
   "dataSources": [
    {
     "datasetId": 1936563,
     "sourceId": 6674905,
     "sourceType": "datasetVersion"
    }
   ],
   "dockerImageVersionId": 30664,
   "isGpuEnabled": false,
   "isInternetEnabled": false,
   "language": "python",
   "sourceType": "notebook"
  },
  "kernelspec": {
   "display_name": "Python 3 (ipykernel)",
   "language": "python",
   "name": "python3"
  },
  "language_info": {
   "codemirror_mode": {
    "name": "ipython",
    "version": 3
   },
   "file_extension": ".py",
   "mimetype": "text/x-python",
   "name": "python",
   "nbconvert_exporter": "python",
   "pygments_lexer": "ipython3",
   "version": "3.11.3"
  }
 },
 "nbformat": 4,
 "nbformat_minor": 4
}
