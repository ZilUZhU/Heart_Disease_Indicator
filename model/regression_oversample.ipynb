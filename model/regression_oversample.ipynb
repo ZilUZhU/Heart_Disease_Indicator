{
 "cells": [
  {
   "cell_type": "code",
   "execution_count": 1,
   "metadata": {
    "execution": {
     "iopub.execute_input": "2024-03-19T19:16:00.116533Z",
     "iopub.status.busy": "2024-03-19T19:16:00.116131Z",
     "iopub.status.idle": "2024-03-19T19:16:00.123385Z",
     "shell.execute_reply": "2024-03-19T19:16:00.122137Z",
     "shell.execute_reply.started": "2024-03-19T19:16:00.116504Z"
    }
   },
   "outputs": [],
   "source": [
    "import numpy as np \n",
    "import pandas as pd \n",
    "import matplotlib.pyplot as plt\n",
    "import seaborn as sns\n",
    "import sklearn\n",
    "from sklearn.model_selection import train_test_split\n",
    "from sklearn.preprocessing import StandardScaler\n",
    "from sklearn.linear_model import LogisticRegression\n",
    "from sklearn.metrics import confusion_matrix, classification_report\n",
    "from sklearn.preprocessing import LabelEncoder"
   ]
  },
  {
   "cell_type": "code",
   "execution_count": 2,
   "metadata": {
    "execution": {
     "iopub.execute_input": "2024-03-19T19:12:35.293478Z",
     "iopub.status.busy": "2024-03-19T19:12:35.292973Z",
     "iopub.status.idle": "2024-03-19T19:12:36.479651Z",
     "shell.execute_reply": "2024-03-19T19:12:36.478662Z",
     "shell.execute_reply.started": "2024-03-19T19:12:35.293434Z"
    }
   },
   "outputs": [
    {
     "data": {
      "text/html": [
       "<div>\n",
       "<style scoped>\n",
       "    .dataframe tbody tr th:only-of-type {\n",
       "        vertical-align: middle;\n",
       "    }\n",
       "\n",
       "    .dataframe tbody tr th {\n",
       "        vertical-align: top;\n",
       "    }\n",
       "\n",
       "    .dataframe thead th {\n",
       "        text-align: right;\n",
       "    }\n",
       "</style>\n",
       "<table border=\"1\" class=\"dataframe\">\n",
       "  <thead>\n",
       "    <tr style=\"text-align: right;\">\n",
       "      <th></th>\n",
       "      <th>HeartDisease</th>\n",
       "      <th>BMI</th>\n",
       "      <th>Smoking</th>\n",
       "      <th>AlcoholDrinking</th>\n",
       "      <th>Stroke</th>\n",
       "      <th>PhysicalHealth</th>\n",
       "      <th>MentalHealth</th>\n",
       "      <th>DiffWalking</th>\n",
       "      <th>Sex</th>\n",
       "      <th>AgeCategory</th>\n",
       "      <th>Race</th>\n",
       "      <th>Diabetic</th>\n",
       "      <th>PhysicalActivity</th>\n",
       "      <th>GenHealth</th>\n",
       "      <th>SleepTime</th>\n",
       "      <th>Asthma</th>\n",
       "      <th>KidneyDisease</th>\n",
       "      <th>SkinCancer</th>\n",
       "    </tr>\n",
       "  </thead>\n",
       "  <tbody>\n",
       "    <tr>\n",
       "      <th>0</th>\n",
       "      <td>No</td>\n",
       "      <td>16.60</td>\n",
       "      <td>Yes</td>\n",
       "      <td>No</td>\n",
       "      <td>No</td>\n",
       "      <td>3.0</td>\n",
       "      <td>30.0</td>\n",
       "      <td>No</td>\n",
       "      <td>Female</td>\n",
       "      <td>55-59</td>\n",
       "      <td>White</td>\n",
       "      <td>Yes</td>\n",
       "      <td>Yes</td>\n",
       "      <td>Very good</td>\n",
       "      <td>5.0</td>\n",
       "      <td>Yes</td>\n",
       "      <td>No</td>\n",
       "      <td>Yes</td>\n",
       "    </tr>\n",
       "    <tr>\n",
       "      <th>1</th>\n",
       "      <td>No</td>\n",
       "      <td>20.34</td>\n",
       "      <td>No</td>\n",
       "      <td>No</td>\n",
       "      <td>Yes</td>\n",
       "      <td>0.0</td>\n",
       "      <td>0.0</td>\n",
       "      <td>No</td>\n",
       "      <td>Female</td>\n",
       "      <td>80 or older</td>\n",
       "      <td>White</td>\n",
       "      <td>No</td>\n",
       "      <td>Yes</td>\n",
       "      <td>Very good</td>\n",
       "      <td>7.0</td>\n",
       "      <td>No</td>\n",
       "      <td>No</td>\n",
       "      <td>No</td>\n",
       "    </tr>\n",
       "    <tr>\n",
       "      <th>2</th>\n",
       "      <td>No</td>\n",
       "      <td>26.58</td>\n",
       "      <td>Yes</td>\n",
       "      <td>No</td>\n",
       "      <td>No</td>\n",
       "      <td>20.0</td>\n",
       "      <td>30.0</td>\n",
       "      <td>No</td>\n",
       "      <td>Male</td>\n",
       "      <td>65-69</td>\n",
       "      <td>White</td>\n",
       "      <td>Yes</td>\n",
       "      <td>Yes</td>\n",
       "      <td>Fair</td>\n",
       "      <td>8.0</td>\n",
       "      <td>Yes</td>\n",
       "      <td>No</td>\n",
       "      <td>No</td>\n",
       "    </tr>\n",
       "    <tr>\n",
       "      <th>3</th>\n",
       "      <td>No</td>\n",
       "      <td>24.21</td>\n",
       "      <td>No</td>\n",
       "      <td>No</td>\n",
       "      <td>No</td>\n",
       "      <td>0.0</td>\n",
       "      <td>0.0</td>\n",
       "      <td>No</td>\n",
       "      <td>Female</td>\n",
       "      <td>75-79</td>\n",
       "      <td>White</td>\n",
       "      <td>No</td>\n",
       "      <td>No</td>\n",
       "      <td>Good</td>\n",
       "      <td>6.0</td>\n",
       "      <td>No</td>\n",
       "      <td>No</td>\n",
       "      <td>Yes</td>\n",
       "    </tr>\n",
       "    <tr>\n",
       "      <th>4</th>\n",
       "      <td>No</td>\n",
       "      <td>23.71</td>\n",
       "      <td>No</td>\n",
       "      <td>No</td>\n",
       "      <td>No</td>\n",
       "      <td>28.0</td>\n",
       "      <td>0.0</td>\n",
       "      <td>Yes</td>\n",
       "      <td>Female</td>\n",
       "      <td>40-44</td>\n",
       "      <td>White</td>\n",
       "      <td>No</td>\n",
       "      <td>Yes</td>\n",
       "      <td>Very good</td>\n",
       "      <td>8.0</td>\n",
       "      <td>No</td>\n",
       "      <td>No</td>\n",
       "      <td>No</td>\n",
       "    </tr>\n",
       "  </tbody>\n",
       "</table>\n",
       "</div>"
      ],
      "text/plain": [
       "  HeartDisease    BMI Smoking AlcoholDrinking Stroke  PhysicalHealth  \\\n",
       "0           No  16.60     Yes              No     No             3.0   \n",
       "1           No  20.34      No              No    Yes             0.0   \n",
       "2           No  26.58     Yes              No     No            20.0   \n",
       "3           No  24.21      No              No     No             0.0   \n",
       "4           No  23.71      No              No     No            28.0   \n",
       "\n",
       "   MentalHealth DiffWalking     Sex  AgeCategory   Race Diabetic  \\\n",
       "0          30.0          No  Female        55-59  White      Yes   \n",
       "1           0.0          No  Female  80 or older  White       No   \n",
       "2          30.0          No    Male        65-69  White      Yes   \n",
       "3           0.0          No  Female        75-79  White       No   \n",
       "4           0.0         Yes  Female        40-44  White       No   \n",
       "\n",
       "  PhysicalActivity  GenHealth  SleepTime Asthma KidneyDisease SkinCancer  \n",
       "0              Yes  Very good        5.0    Yes            No        Yes  \n",
       "1              Yes  Very good        7.0     No            No         No  \n",
       "2              Yes       Fair        8.0    Yes            No         No  \n",
       "3               No       Good        6.0     No            No        Yes  \n",
       "4              Yes  Very good        8.0     No            No         No  "
      ]
     },
     "execution_count": 2,
     "metadata": {},
     "output_type": "execute_result"
    }
   ],
   "source": [
    "df=pd.read_csv('../data/data2020.csv')\n",
    "df.head()"
   ]
  },
  {
   "cell_type": "code",
   "execution_count": 3,
   "metadata": {
    "execution": {
     "iopub.execute_input": "2024-03-19T19:12:52.897807Z",
     "iopub.status.busy": "2024-03-19T19:12:52.897437Z",
     "iopub.status.idle": "2024-03-19T19:12:54.24245Z",
     "shell.execute_reply": "2024-03-19T19:12:54.241085Z",
     "shell.execute_reply.started": "2024-03-19T19:12:52.897775Z"
    }
   },
   "outputs": [
    {
     "name": "stdout",
     "output_type": "stream",
     "text": [
      "HeartDisease\n",
      "Smoking\n",
      "AlcoholDrinking\n",
      "Stroke\n",
      "DiffWalking\n",
      "Sex\n",
      "AgeCategory\n",
      "Race\n",
      "Diabetic\n",
      "PhysicalActivity\n",
      "GenHealth\n",
      "Asthma\n",
      "KidneyDisease\n",
      "SkinCancer\n"
     ]
    }
   ],
   "source": [
    "df1 = df.copy()\n",
    "le=LabelEncoder()\n",
    "categorical = df.select_dtypes(include = 'O')\n",
    "categorical.columns\n",
    "for feature in categorical:\n",
    "    df1[feature]=le.fit_transform(df1[feature])\n",
    "    print(feature)"
   ]
  },
  {
   "cell_type": "code",
   "execution_count": 4,
   "metadata": {},
   "outputs": [],
   "source": [
    "def split_data(X, Y):\n",
    "    # X_train, X_test, y_train, y_test = train_test_split(X, Y, test_size = 0.2,stratify=Y)\n",
    "    X_train, X_test, y_train, y_test = train_test_split(X, Y, test_size = 0.2,stratify=df1['HeartDisease'])\n",
    "    return X_train, X_test, y_train, y_test\n",
    "def over_sample_date(X_train, y_train, data_rate = 1):\n",
    "    minority_class = y_train.value_counts().idxmin()    # 1\n",
    "    majority_class = y_train.value_counts().idxmax()    # 0\n",
    "\n",
    "    minority_data = X_train[y_train == minority_class]\n",
    "    majority_data = X_train[y_train == majority_class]\n",
    "    minority_labels = y_train[y_train == minority_class]\n",
    "    majority_labels = y_train[y_train == majority_class]\n",
    "\n",
    "    oversampled_minority_data = minority_data.sample(int(len(majority_data)*data_rate), replace=True)\n",
    "    oversampled_minority_labels = minority_labels.sample(int(len(majority_data)*data_rate), replace=True)\n",
    "    X_train_oversampled = pd.concat([majority_data, oversampled_minority_data])\n",
    "    y_train_oversampled = pd.concat([majority_labels, oversampled_minority_labels])\n",
    "    return X_train_oversampled, y_train_oversampled"
   ]
  },
  {
   "cell_type": "markdown",
   "metadata": {},
   "source": [
    "## Change data_rate and other things to improve the data"
   ]
  },
  {
   "cell_type": "code",
   "execution_count": 66,
   "metadata": {
    "scrolled": true
   },
   "outputs": [],
   "source": [
    "def normalize_row(row, training_data): # insert a new data and normalize with training data and get the normalized output\n",
    "    pd.concat([row, training_data])\n",
    "    scaler = StandardScaler()\n",
    "    training_data = scaler.fit_transform(training_data)\n",
    "    return training_data[0]\n",
    "X=df1.drop('HeartDisease',axis=1)\n",
    "Y=df1['HeartDisease']\n",
    "X_train, X_test, y_train, y_test = split_data(X,Y)\n",
    "X_train_oversampled, Y_train_oversampled = over_sample_date(X_train, y_train, data_rate = 1)\n"
   ]
  },
  {
   "cell_type": "code",
   "execution_count": 69,
   "metadata": {},
   "outputs": [
    {
     "name": "stdout",
     "output_type": "stream",
     "text": [
      "[-0.6396843   1.01743866 -0.24283626 -0.32216599  2.47242786 -0.49717844\n",
      "  1.77326158 -1.05758476  1.26188349  0.46168833 -0.56236812 -1.5800868\n",
      "  0.57892723  0.55411417  2.33595123 -0.2893677  -0.39308983]\n"
     ]
    }
   ],
   "source": [
    "df_new = X_train_oversampled.iloc[0]\n",
    "\n",
    "df_new = normalize_row(df_new, X_train_oversampled)\n",
    "print(df_new)"
   ]
  },
  {
   "cell_type": "code",
   "execution_count": 70,
   "metadata": {},
   "outputs": [
    {
     "name": "stdout",
     "output_type": "stream",
     "text": [
      "[-0.6396843   1.01743866 -0.24283626 -0.32216599  2.47242786 -0.49717844\n",
      "  1.77326158 -1.05758476  1.26188349  0.46168833 -0.56236812 -1.5800868\n",
      "  0.57892723  0.55411417  2.33595123 -0.2893677  -0.39308983]\n"
     ]
    }
   ],
   "source": [
    "scaler = StandardScaler()\n",
    "X_train_oversampled = scaler.fit_transform(X_train_oversampled)\n",
    "print(X_train_oversampled[0])\n",
    "X_test = scaler.transform(X_test)"
   ]
  },
  {
   "cell_type": "code",
   "execution_count": 53,
   "metadata": {},
   "outputs": [],
   "source": [
    "\n",
    "df_new = scaler.fit_transform(df_new)"
   ]
  },
  {
   "cell_type": "code",
   "execution_count": 54,
   "metadata": {},
   "outputs": [
    {
     "data": {
      "text/plain": [
       "array([-1.82421407,  1.05132024, -0.24985088,  3.36466358, -0.51544353,\n",
       "        3.08195449,  1.87973398, -1.03607012,  1.01408138,  0.46725199,\n",
       "       -0.5375019 ,  0.6144571 , -0.84986931,  0.56467944, -0.42111314,\n",
       "       -0.27195243, -0.37791696])"
      ]
     },
     "execution_count": 54,
     "metadata": {},
     "output_type": "execute_result"
    }
   ],
   "source": [
    "df_new[0]"
   ]
  },
  {
   "cell_type": "code",
   "execution_count": 55,
   "metadata": {},
   "outputs": [
    {
     "data": {
      "text/plain": [
       "array([-1.83305537,  1.01772584, -0.24441643,  3.12754643, -0.53868494,\n",
       "        3.03133783,  1.77131768, -1.05855574,  0.96123949,  0.45983411,\n",
       "       -0.56692066,  0.63357223, -0.86652053,  0.54926309, -0.42799676,\n",
       "       -0.28910303, -0.39277088])"
      ]
     },
     "execution_count": 55,
     "metadata": {},
     "output_type": "execute_result"
    }
   ],
   "source": [
    "X_train_oversampled[0]"
   ]
  },
  {
   "cell_type": "code",
   "execution_count": 32,
   "metadata": {},
   "outputs": [
    {
     "name": "stdout",
     "output_type": "stream",
     "text": [
      "              precision    recall  f1-score   support\n",
      "\n",
      "           0       0.97      0.74      0.84     58484\n",
      "           1       0.22      0.77      0.34      5475\n",
      "\n",
      "    accuracy                           0.74     63959\n",
      "   macro avg       0.59      0.75      0.59     63959\n",
      "weighted avg       0.91      0.74      0.80     63959\n",
      "\n",
      "0.7414124673619037\n"
     ]
    },
    {
     "data": {
      "text/plain": [
       "array([[43212, 15272],\n",
       "       [ 1267,  4208]])"
      ]
     },
     "execution_count": 32,
     "metadata": {},
     "output_type": "execute_result"
    }
   ],
   "source": [
    "log_reg = LogisticRegression()\n",
    "log_reg.fit(X_train_oversampled, Y_train_oversampled)\n",
    "\n",
    "y_pred = log_reg.predict(X_test)\n",
    "#acc=log_reg.score(y_test,y_pred)\n",
    "print(classification_report(y_test, y_pred))\n",
    "accuracy=log_reg.score(X_test,y_test)\n",
    "print(accuracy)\n",
    "confusion_matrix(y_test,y_pred)"
   ]
  },
  {
   "cell_type": "code",
   "execution_count": null,
   "metadata": {},
   "outputs": [],
   "source": []
  }
 ],
 "metadata": {
  "kaggle": {
   "accelerator": "none",
   "dataSources": [
    {
     "datasetId": 1936563,
     "sourceId": 6674905,
     "sourceType": "datasetVersion"
    }
   ],
   "dockerImageVersionId": 30664,
   "isGpuEnabled": false,
   "isInternetEnabled": false,
   "language": "python",
   "sourceType": "notebook"
  },
  "kernelspec": {
   "display_name": "Python 3 (ipykernel)",
   "language": "python",
   "name": "python3"
  },
  "language_info": {
   "codemirror_mode": {
    "name": "ipython",
    "version": 3
   },
   "file_extension": ".py",
   "mimetype": "text/x-python",
   "name": "python",
   "nbconvert_exporter": "python",
   "pygments_lexer": "ipython3",
   "version": "3.11.3"
  }
 },
 "nbformat": 4,
 "nbformat_minor": 4
}
