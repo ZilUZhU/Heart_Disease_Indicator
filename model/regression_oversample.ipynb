{
 "cells": [
  {
   "cell_type": "code",
   "execution_count": 5,
   "metadata": {
    "execution": {
     "iopub.execute_input": "2024-03-19T19:16:00.116533Z",
     "iopub.status.busy": "2024-03-19T19:16:00.116131Z",
     "iopub.status.idle": "2024-03-19T19:16:00.123385Z",
     "shell.execute_reply": "2024-03-19T19:16:00.122137Z",
     "shell.execute_reply.started": "2024-03-19T19:16:00.116504Z"
    }
   },
   "outputs": [],
   "source": [
    "import numpy as np \n",
    "import pandas as pd \n",
    "import matplotlib.pyplot as plt\n",
    "import seaborn as sns\n",
    "import sklearn\n",
    "from sklearn.model_selection import train_test_split\n",
    "from sklearn.preprocessing import StandardScaler\n",
    "from sklearn.linear_model import LogisticRegression\n",
    "from sklearn.metrics import confusion_matrix, classification_report\n",
    "from sklearn.preprocessing import LabelEncoder"
   ]
  },
  {
   "cell_type": "code",
   "execution_count": 6,
   "metadata": {
    "execution": {
     "iopub.execute_input": "2024-03-19T19:12:35.293478Z",
     "iopub.status.busy": "2024-03-19T19:12:35.292973Z",
     "iopub.status.idle": "2024-03-19T19:12:36.479651Z",
     "shell.execute_reply": "2024-03-19T19:12:36.478662Z",
     "shell.execute_reply.started": "2024-03-19T19:12:35.293434Z"
    }
   },
   "outputs": [],
   "source": [
    "df=pd.read_csv('../data/data2020.csv')\n",
    "df.head()\n",
    "\n",
    "columns_to_keep = [\n",
    "    'HeartDisease','BMI', 'Smoking', 'Stroke', 'PhysicalHealth',\n",
    "    'DiffWalking', 'Sex', 'AgeCategory', 'Diabetic',\n",
    "    'Asthma', 'KidneyDisease'\n",
    "]\n",
    "\n",
    "df = df[columns_to_keep]\n"
   ]
  },
  {
   "cell_type": "code",
   "execution_count": 7,
   "metadata": {
    "execution": {
     "iopub.execute_input": "2024-03-19T19:12:52.897807Z",
     "iopub.status.busy": "2024-03-19T19:12:52.897437Z",
     "iopub.status.idle": "2024-03-19T19:12:54.24245Z",
     "shell.execute_reply": "2024-03-19T19:12:54.241085Z",
     "shell.execute_reply.started": "2024-03-19T19:12:52.897775Z"
    }
   },
   "outputs": [
    {
     "name": "stdout",
     "output_type": "stream",
     "text": [
      "HeartDisease\n",
      "Smoking\n",
      "Stroke\n",
      "DiffWalking\n",
      "Sex\n",
      "AgeCategory\n",
      "Diabetic\n",
      "Asthma\n",
      "KidneyDisease\n"
     ]
    }
   ],
   "source": [
    "df1 = df.copy()\n",
    "le=LabelEncoder()\n",
    "categorical = df.select_dtypes(include = 'O')\n",
    "categorical.columns\n",
    "for feature in categorical:\n",
    "    df1[feature]=le.fit_transform(df1[feature])\n",
    "    print(feature)"
   ]
  },
  {
   "cell_type": "code",
   "execution_count": 8,
   "metadata": {},
   "outputs": [],
   "source": [
    "def split_data(X, Y):\n",
    "    # X_train, X_test, y_train, y_test = train_test_split(X, Y, test_size = 0.2,stratify=Y)\n",
    "    X_train, X_test, y_train, y_test = train_test_split(X, Y, test_size = 0.2,stratify=df1['HeartDisease'])\n",
    "    return X_train, X_test, y_train, y_test\n",
    "def over_sample_date(X_train, y_train, data_rate = 1):\n",
    "    minority_class = y_train.value_counts().idxmin()    # 1\n",
    "    majority_class = y_train.value_counts().idxmax()    # 0\n",
    "\n",
    "    minority_data = X_train[y_train == minority_class]\n",
    "    majority_data = X_train[y_train == majority_class]\n",
    "    minority_labels = y_train[y_train == minority_class]\n",
    "    majority_labels = y_train[y_train == majority_class]\n",
    "\n",
    "    oversampled_minority_data = minority_data.sample(int(len(majority_data)*data_rate), replace=True)\n",
    "    oversampled_minority_labels = minority_labels.sample(int(len(majority_data)*data_rate), replace=True)\n",
    "    X_train_oversampled = pd.concat([majority_data, oversampled_minority_data])\n",
    "    y_train_oversampled = pd.concat([majority_labels, oversampled_minority_labels])\n",
    "    return X_train_oversampled, y_train_oversampled"
   ]
  },
  {
   "cell_type": "markdown",
   "metadata": {},
   "source": [
    "## Change data_rate and other things to improve the data"
   ]
  },
  {
   "cell_type": "code",
   "execution_count": 9,
   "metadata": {
    "scrolled": true
   },
   "outputs": [],
   "source": [
    "# get the training dataset and test dataset\n",
    "X=df1.drop('HeartDisease',axis=1)\n",
    "Y=df1['HeartDisease']\n",
    "X_train, X_test, y_train, y_test = split_data(X,Y)\n",
    "X_train_oversampled, Y_train_oversampled = over_sample_date(X_train, y_train, data_rate = 0.4)"
   ]
  },
  {
   "cell_type": "code",
   "execution_count": 10,
   "metadata": {},
   "outputs": [],
   "source": [
    "# transform the training data\n",
    "scaler = StandardScaler()\n",
    "X_train_oversampled_T = scaler.fit_transform(X_train_oversampled)\n",
    "X_test_T = scaler.transform(X_test)"
   ]
  },
  {
   "cell_type": "code",
   "execution_count": 11,
   "metadata": {},
   "outputs": [
    {
     "name": "stdout",
     "output_type": "stream",
     "text": [
      "              precision    recall  f1-score   support\n",
      "\n",
      "           0       0.95      0.91      0.93     58484\n",
      "           1       0.31      0.46      0.37      5475\n",
      "\n",
      "    accuracy                           0.87     63959\n",
      "   macro avg       0.63      0.68      0.65     63959\n",
      "weighted avg       0.89      0.87      0.88     63959\n",
      "\n"
     ]
    },
    {
     "data": {
      "text/plain": [
       "array([[52970,  5514],\n",
       "       [ 2956,  2519]])"
      ]
     },
     "execution_count": 11,
     "metadata": {},
     "output_type": "execute_result"
    }
   ],
   "source": [
    "log_reg = LogisticRegression()\n",
    "log_reg.fit(X_train_oversampled_T, Y_train_oversampled)\n",
    "\n",
    "y_pred = log_reg.predict(X_test_T)\n",
    "#acc=log_reg.score(y_test,y_pred)\n",
    "print(classification_report(y_test, y_pred))\n",
    "confusion_matrix(y_test,y_pred)"
   ]
  },
  {
   "cell_type": "code",
   "execution_count": 12,
   "metadata": {},
   "outputs": [
    {
     "data": {
      "text/plain": [
       "(array([[0.09889642, 0.22637016, 0.30912101, 0.2488255 , 0.18334112,\n",
       "         0.37937364, 1.03940385, 0.25440507, 0.13933909, 0.17579232]]),\n",
       " array([-1.30315598]))"
      ]
     },
     "execution_count": 12,
     "metadata": {},
     "output_type": "execute_result"
    }
   ],
   "source": [
    "log_reg.coef_,log_reg.intercept_"
   ]
  },
  {
   "cell_type": "code",
   "execution_count": 15,
   "metadata": {},
   "outputs": [
    {
     "name": "stdout",
     "output_type": "stream",
     "text": [
      "[[-0.30036189  1.10526784 -0.26307841 -0.48092632 -0.48201241  0.99725274\n",
      "   0.81917094 -0.49229319 -0.41130464 -0.24539354]]\n",
      "[[ True  True  True  True  True  True  True  True  True  True]]\n"
     ]
    }
   ],
   "source": [
    "from sklearn.preprocessing import StandardScaler\n",
    "import pickle\n",
    "def normalize_row(row, scaler):\n",
    "    # Reshape row to match expected input of scaler\n",
    "    row_reshaped = row.values.reshape(1, -1)\n",
    "    # Apply the same transformation as training data\n",
    "    normalized_row = scaler.transform(row_reshaped)\n",
    "    return normalized_row  # Flatten to match the shape of the original row\n",
    "\n",
    "# Fit scaler\n",
    "scaler = StandardScaler().fit(X_train_oversampled.values)\n",
    "with open('scaler.pkl', 'wb') as f:\n",
    "    pickle.dump(scaler, f)\n",
    "df_new = X_train_oversampled.iloc[0]\n",
    "\n",
    "df_new_normalized = normalize_row(df_new, scaler)\n",
    "\n",
    "print(df_new_normalized)\n",
    "\n",
    "# If true, this proof the correctness of normalization\n",
    "print(X_train_oversampled_T[0] == df_new_normalized)\n"
   ]
  },
  {
   "cell_type": "code",
   "execution_count": 16,
   "metadata": {},
   "outputs": [
    {
     "name": "stdout",
     "output_type": "stream",
     "text": [
      "[26.63, 1.0, 0.0, 0.0, 0.0, 1.0, 10.0, 0.0, 0.0, 0.0]\n"
     ]
    }
   ],
   "source": [
    "print(list(X_train_oversampled.iloc[0]))"
   ]
  },
  {
   "cell_type": "code",
   "execution_count": 19,
   "metadata": {},
   "outputs": [
    {
     "name": "stdout",
     "output_type": "stream",
     "text": [
      "The predicted probability is: [0.16067047]\n"
     ]
    }
   ],
   "source": [
    "# Use user input to get \n",
    "import numpy as np\n",
    "\n",
    "user_input = [29.76, 0.0, 0.0, 0.0, 0.0, 1.0, 7.0, 0.0, 0.0, 0.0]\n",
    "with open('scaler.pkl', 'rb') as f:\n",
    "    scaler2 = pickle.load(f)\n",
    "user_input_T = normalize_row(pd.DataFrame([user_input]),scaler2)\n",
    "\n",
    "coef = np.array([0.09889642, 0.22637016, 0.30912101, 0.2488255 , 0.18334112,\n",
    "         0.37937364, 1.03940385, 0.25440507, 0.13933909, 0.17579232]).flatten()\n",
    "intercept = -1.29850855\n",
    "\n",
    "# Compute the linear combination of inputs and weights\n",
    "z = np.dot(user_input_T, coef) + intercept\n",
    "\n",
    "# Apply the logistic function\n",
    "p = 1 / (1 + np.exp(-z))\n",
    "\n",
    "print(\"The predicted probability is:\", p)\n"
   ]
  },
  {
   "cell_type": "code",
   "execution_count": 158,
   "metadata": {},
   "outputs": [
    {
     "name": "stdout",
     "output_type": "stream",
     "text": [
      "10 10\n",
      "BMI 0.10047822315025126\n",
      "Smoking 0.21347318488944275\n",
      "Stroke 0.3164181650611676\n",
      "PhysicalHealth 0.24013116255913974\n",
      "DiffWalking 0.19651085250814868\n",
      "Sex 0.3685282125874082\n",
      "AgeCategory 1.0367771512672388\n",
      "Diabetic 0.247550756220331\n",
      "Asthma 0.1321086802246646\n",
      "KidneyDisease 0.17420223782225586\n",
      "10\n"
     ]
    }
   ],
   "source": [
    "col = (list(df.columns[1:]))\n",
    "coef = (list(log_reg.coef_[0]))\n",
    "print(len(col), len(coef))\n",
    "num = 0;\n",
    "for i in range(len(col)):\n",
    "    if(coef[i] > 0 or coef[i] < 0):\n",
    "        print(col[i], coef[i])\n",
    "        num+=1\n",
    "print(num)"
   ]
  },
  {
   "cell_type": "code",
   "execution_count": null,
   "metadata": {},
   "outputs": [],
   "source": []
  },
  {
   "cell_type": "code",
   "execution_count": null,
   "metadata": {},
   "outputs": [],
   "source": []
  },
  {
   "cell_type": "code",
   "execution_count": null,
   "metadata": {},
   "outputs": [],
   "source": []
  }
 ],
 "metadata": {
  "kaggle": {
   "accelerator": "none",
   "dataSources": [
    {
     "datasetId": 1936563,
     "sourceId": 6674905,
     "sourceType": "datasetVersion"
    }
   ],
   "dockerImageVersionId": 30664,
   "isGpuEnabled": false,
   "isInternetEnabled": false,
   "language": "python",
   "sourceType": "notebook"
  },
  "kernelspec": {
   "display_name": "Python 3 (ipykernel)",
   "language": "python",
   "name": "python3"
  },
  "language_info": {
   "codemirror_mode": {
    "name": "ipython",
    "version": 3
   },
   "file_extension": ".py",
   "mimetype": "text/x-python",
   "name": "python",
   "nbconvert_exporter": "python",
   "pygments_lexer": "ipython3",
   "version": "3.11.3"
  }
 },
 "nbformat": 4,
 "nbformat_minor": 4
}
