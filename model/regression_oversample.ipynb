{
 "cells": [
  {
   "cell_type": "code",
   "execution_count": 74,
   "metadata": {
    "execution": {
     "iopub.execute_input": "2024-03-19T19:16:00.116533Z",
     "iopub.status.busy": "2024-03-19T19:16:00.116131Z",
     "iopub.status.idle": "2024-03-19T19:16:00.123385Z",
     "shell.execute_reply": "2024-03-19T19:16:00.122137Z",
     "shell.execute_reply.started": "2024-03-19T19:16:00.116504Z"
    }
   },
   "outputs": [],
   "source": [
    "import numpy as np \n",
    "import pandas as pd \n",
    "import matplotlib.pyplot as plt\n",
    "import seaborn as sns\n",
    "import sklearn\n",
    "from sklearn.model_selection import train_test_split\n",
    "from sklearn.preprocessing import StandardScaler\n",
    "from sklearn.linear_model import LogisticRegression\n",
    "from sklearn.metrics import confusion_matrix, classification_report\n",
    "from sklearn.preprocessing import LabelEncoder"
   ]
  },
  {
   "cell_type": "code",
   "execution_count": 75,
   "metadata": {
    "execution": {
     "iopub.execute_input": "2024-03-19T19:12:35.293478Z",
     "iopub.status.busy": "2024-03-19T19:12:35.292973Z",
     "iopub.status.idle": "2024-03-19T19:12:36.479651Z",
     "shell.execute_reply": "2024-03-19T19:12:36.478662Z",
     "shell.execute_reply.started": "2024-03-19T19:12:35.293434Z"
    }
   },
   "outputs": [
    {
     "data": {
      "text/html": [
       "<div>\n",
       "<style scoped>\n",
       "    .dataframe tbody tr th:only-of-type {\n",
       "        vertical-align: middle;\n",
       "    }\n",
       "\n",
       "    .dataframe tbody tr th {\n",
       "        vertical-align: top;\n",
       "    }\n",
       "\n",
       "    .dataframe thead th {\n",
       "        text-align: right;\n",
       "    }\n",
       "</style>\n",
       "<table border=\"1\" class=\"dataframe\">\n",
       "  <thead>\n",
       "    <tr style=\"text-align: right;\">\n",
       "      <th></th>\n",
       "      <th>HeartDisease</th>\n",
       "      <th>BMI</th>\n",
       "      <th>Smoking</th>\n",
       "      <th>AlcoholDrinking</th>\n",
       "      <th>Stroke</th>\n",
       "      <th>PhysicalHealth</th>\n",
       "      <th>MentalHealth</th>\n",
       "      <th>DiffWalking</th>\n",
       "      <th>Sex</th>\n",
       "      <th>AgeCategory</th>\n",
       "      <th>Race</th>\n",
       "      <th>Diabetic</th>\n",
       "      <th>PhysicalActivity</th>\n",
       "      <th>GenHealth</th>\n",
       "      <th>SleepTime</th>\n",
       "      <th>Asthma</th>\n",
       "      <th>KidneyDisease</th>\n",
       "      <th>SkinCancer</th>\n",
       "    </tr>\n",
       "  </thead>\n",
       "  <tbody>\n",
       "    <tr>\n",
       "      <th>0</th>\n",
       "      <td>No</td>\n",
       "      <td>16.60</td>\n",
       "      <td>Yes</td>\n",
       "      <td>No</td>\n",
       "      <td>No</td>\n",
       "      <td>3.0</td>\n",
       "      <td>30.0</td>\n",
       "      <td>No</td>\n",
       "      <td>Female</td>\n",
       "      <td>55-59</td>\n",
       "      <td>White</td>\n",
       "      <td>Yes</td>\n",
       "      <td>Yes</td>\n",
       "      <td>Very good</td>\n",
       "      <td>5.0</td>\n",
       "      <td>Yes</td>\n",
       "      <td>No</td>\n",
       "      <td>Yes</td>\n",
       "    </tr>\n",
       "    <tr>\n",
       "      <th>1</th>\n",
       "      <td>No</td>\n",
       "      <td>20.34</td>\n",
       "      <td>No</td>\n",
       "      <td>No</td>\n",
       "      <td>Yes</td>\n",
       "      <td>0.0</td>\n",
       "      <td>0.0</td>\n",
       "      <td>No</td>\n",
       "      <td>Female</td>\n",
       "      <td>80 or older</td>\n",
       "      <td>White</td>\n",
       "      <td>No</td>\n",
       "      <td>Yes</td>\n",
       "      <td>Very good</td>\n",
       "      <td>7.0</td>\n",
       "      <td>No</td>\n",
       "      <td>No</td>\n",
       "      <td>No</td>\n",
       "    </tr>\n",
       "    <tr>\n",
       "      <th>2</th>\n",
       "      <td>No</td>\n",
       "      <td>26.58</td>\n",
       "      <td>Yes</td>\n",
       "      <td>No</td>\n",
       "      <td>No</td>\n",
       "      <td>20.0</td>\n",
       "      <td>30.0</td>\n",
       "      <td>No</td>\n",
       "      <td>Male</td>\n",
       "      <td>65-69</td>\n",
       "      <td>White</td>\n",
       "      <td>Yes</td>\n",
       "      <td>Yes</td>\n",
       "      <td>Fair</td>\n",
       "      <td>8.0</td>\n",
       "      <td>Yes</td>\n",
       "      <td>No</td>\n",
       "      <td>No</td>\n",
       "    </tr>\n",
       "    <tr>\n",
       "      <th>3</th>\n",
       "      <td>No</td>\n",
       "      <td>24.21</td>\n",
       "      <td>No</td>\n",
       "      <td>No</td>\n",
       "      <td>No</td>\n",
       "      <td>0.0</td>\n",
       "      <td>0.0</td>\n",
       "      <td>No</td>\n",
       "      <td>Female</td>\n",
       "      <td>75-79</td>\n",
       "      <td>White</td>\n",
       "      <td>No</td>\n",
       "      <td>No</td>\n",
       "      <td>Good</td>\n",
       "      <td>6.0</td>\n",
       "      <td>No</td>\n",
       "      <td>No</td>\n",
       "      <td>Yes</td>\n",
       "    </tr>\n",
       "    <tr>\n",
       "      <th>4</th>\n",
       "      <td>No</td>\n",
       "      <td>23.71</td>\n",
       "      <td>No</td>\n",
       "      <td>No</td>\n",
       "      <td>No</td>\n",
       "      <td>28.0</td>\n",
       "      <td>0.0</td>\n",
       "      <td>Yes</td>\n",
       "      <td>Female</td>\n",
       "      <td>40-44</td>\n",
       "      <td>White</td>\n",
       "      <td>No</td>\n",
       "      <td>Yes</td>\n",
       "      <td>Very good</td>\n",
       "      <td>8.0</td>\n",
       "      <td>No</td>\n",
       "      <td>No</td>\n",
       "      <td>No</td>\n",
       "    </tr>\n",
       "  </tbody>\n",
       "</table>\n",
       "</div>"
      ],
      "text/plain": [
       "  HeartDisease    BMI Smoking AlcoholDrinking Stroke  PhysicalHealth  \\\n",
       "0           No  16.60     Yes              No     No             3.0   \n",
       "1           No  20.34      No              No    Yes             0.0   \n",
       "2           No  26.58     Yes              No     No            20.0   \n",
       "3           No  24.21      No              No     No             0.0   \n",
       "4           No  23.71      No              No     No            28.0   \n",
       "\n",
       "   MentalHealth DiffWalking     Sex  AgeCategory   Race Diabetic  \\\n",
       "0          30.0          No  Female        55-59  White      Yes   \n",
       "1           0.0          No  Female  80 or older  White       No   \n",
       "2          30.0          No    Male        65-69  White      Yes   \n",
       "3           0.0          No  Female        75-79  White       No   \n",
       "4           0.0         Yes  Female        40-44  White       No   \n",
       "\n",
       "  PhysicalActivity  GenHealth  SleepTime Asthma KidneyDisease SkinCancer  \n",
       "0              Yes  Very good        5.0    Yes            No        Yes  \n",
       "1              Yes  Very good        7.0     No            No         No  \n",
       "2              Yes       Fair        8.0    Yes            No         No  \n",
       "3               No       Good        6.0     No            No        Yes  \n",
       "4              Yes  Very good        8.0     No            No         No  "
      ]
     },
     "execution_count": 75,
     "metadata": {},
     "output_type": "execute_result"
    }
   ],
   "source": [
    "df=pd.read_csv('../data/data2020.csv')\n",
    "df.head()"
   ]
  },
  {
   "cell_type": "code",
   "execution_count": 76,
   "metadata": {
    "execution": {
     "iopub.execute_input": "2024-03-19T19:12:52.897807Z",
     "iopub.status.busy": "2024-03-19T19:12:52.897437Z",
     "iopub.status.idle": "2024-03-19T19:12:54.24245Z",
     "shell.execute_reply": "2024-03-19T19:12:54.241085Z",
     "shell.execute_reply.started": "2024-03-19T19:12:52.897775Z"
    }
   },
   "outputs": [
    {
     "name": "stdout",
     "output_type": "stream",
     "text": [
      "HeartDisease\n",
      "Smoking\n",
      "AlcoholDrinking\n",
      "Stroke\n",
      "DiffWalking\n",
      "Sex\n",
      "AgeCategory\n",
      "Race\n",
      "Diabetic\n",
      "PhysicalActivity\n",
      "GenHealth\n",
      "Asthma\n",
      "KidneyDisease\n",
      "SkinCancer\n"
     ]
    }
   ],
   "source": [
    "df1 = df.copy()\n",
    "le=LabelEncoder()\n",
    "categorical = df.select_dtypes(include = 'O')\n",
    "categorical.columns\n",
    "for feature in categorical:\n",
    "    df1[feature]=le.fit_transform(df1[feature])\n",
    "    print(feature)"
   ]
  },
  {
   "cell_type": "code",
   "execution_count": 4,
   "metadata": {},
   "outputs": [],
   "source": [
    "def split_data(X, Y):\n",
    "    # X_train, X_test, y_train, y_test = train_test_split(X, Y, test_size = 0.2,stratify=Y)\n",
    "    X_train, X_test, y_train, y_test = train_test_split(X, Y, test_size = 0.2,stratify=df1['HeartDisease'])\n",
    "    return X_train, X_test, y_train, y_test\n",
    "def over_sample_date(X_train, y_train, data_rate = 1):\n",
    "    minority_class = y_train.value_counts().idxmin()    # 1\n",
    "    majority_class = y_train.value_counts().idxmax()    # 0\n",
    "\n",
    "    minority_data = X_train[y_train == minority_class]\n",
    "    majority_data = X_train[y_train == majority_class]\n",
    "    minority_labels = y_train[y_train == minority_class]\n",
    "    majority_labels = y_train[y_train == majority_class]\n",
    "\n",
    "    oversampled_minority_data = minority_data.sample(int(len(majority_data)*data_rate), replace=True)\n",
    "    oversampled_minority_labels = minority_labels.sample(int(len(majority_data)*data_rate), replace=True)\n",
    "    X_train_oversampled = pd.concat([majority_data, oversampled_minority_data])\n",
    "    y_train_oversampled = pd.concat([majority_labels, oversampled_minority_labels])\n",
    "    return X_train_oversampled, y_train_oversampled"
   ]
  },
  {
   "cell_type": "markdown",
   "metadata": {},
   "source": [
    "## Change data_rate and other things to improve the data"
   ]
  },
  {
   "cell_type": "code",
   "execution_count": 77,
   "metadata": {
    "scrolled": true
   },
   "outputs": [],
   "source": [
    "# get the training dataset and test dataset\n",
    "X=df1.drop('HeartDisease',axis=1)\n",
    "Y=df1['HeartDisease']\n",
    "X_train, X_test, y_train, y_test = split_data(X,Y)\n",
    "X_train_oversampled, Y_train_oversampled = over_sample_date(X_train, y_train, data_rate = 1)"
   ]
  },
  {
   "cell_type": "code",
   "execution_count": 78,
   "metadata": {},
   "outputs": [],
   "source": [
    "# transform the training data\n",
    "scaler = StandardScaler()\n",
    "X_train_oversampled_T = scaler.fit_transform(X_train_oversampled)\n",
    "X_test_T = scaler.transform(X_test)"
   ]
  },
  {
   "cell_type": "code",
   "execution_count": 79,
   "metadata": {},
   "outputs": [
    {
     "name": "stdout",
     "output_type": "stream",
     "text": [
      "              precision    recall  f1-score   support\n",
      "\n",
      "           0       0.97      0.74      0.84     58484\n",
      "           1       0.22      0.76      0.34      5475\n",
      "\n",
      "    accuracy                           0.74     63959\n",
      "   macro avg       0.59      0.75      0.59     63959\n",
      "weighted avg       0.91      0.74      0.80     63959\n",
      "\n",
      "0.08560171359777358\n"
     ]
    },
    {
     "name": "stderr",
     "output_type": "stream",
     "text": [
      "/Users/pb/anaconda3/lib/python3.11/site-packages/sklearn/base.py:432: UserWarning: X has feature names, but LogisticRegression was fitted without feature names\n",
      "  warnings.warn(\n"
     ]
    },
    {
     "data": {
      "text/plain": [
       "array([[43346, 15138],\n",
       "       [ 1296,  4179]])"
      ]
     },
     "execution_count": 79,
     "metadata": {},
     "output_type": "execute_result"
    }
   ],
   "source": [
    "log_reg = LogisticRegression()\n",
    "log_reg.fit(X_train_oversampled_T, Y_train_oversampled)\n",
    "\n",
    "y_pred = log_reg.predict(X_test_T)\n",
    "#acc=log_reg.score(y_test,y_pred)\n",
    "print(classification_report(y_test, y_pred))\n",
    "accuracy=log_reg.score(X_test,y_test)\n",
    "print(accuracy)\n",
    "confusion_matrix(y_test,y_pred)"
   ]
  },
  {
   "cell_type": "code",
   "execution_count": 83,
   "metadata": {},
   "outputs": [
    {
     "data": {
      "text/plain": [
       "(array([[ 0.11093823,  0.23342849, -0.05418123,  0.3869928 ,  0.25568301,\n",
       "          0.11938427,  0.1761645 ,  0.37207277,  1.02793546,  0.02749455,\n",
       "          0.26370807, -0.04490726, -0.03153452, -0.04868793,  0.13806599,\n",
       "          0.19823492,  0.04858497]]),\n",
       " array([-0.0196599]))"
      ]
     },
     "execution_count": 83,
     "metadata": {},
     "output_type": "execute_result"
    }
   ],
   "source": [
    "log_reg.coef_,log_reg.intercept_"
   ]
  },
  {
   "cell_type": "code",
   "execution_count": 151,
   "metadata": {},
   "outputs": [
    {
     "name": "stdout",
     "output_type": "stream",
     "text": [
      "[[-0.72063279  1.01757354 -0.24489727 -0.32061579 -0.44128201 -0.49706031\n",
      "  -0.56345196  0.94606575 -1.70156519 -1.25708171 -0.56441101  0.63194933\n",
      "   1.30354385 -0.69905489 -0.42729395 -0.28913775 -0.39388304]]\n",
      "[[ True  True  True  True  True  True  True  True  True  True  True  True\n",
      "   True  True  True  True  True]]\n"
     ]
    },
    {
     "name": "stderr",
     "output_type": "stream",
     "text": [
      "/Users/pb/anaconda3/lib/python3.11/site-packages/sklearn/base.py:439: UserWarning: X does not have valid feature names, but StandardScaler was fitted with feature names\n",
      "  warnings.warn(\n"
     ]
    }
   ],
   "source": [
    "from sklearn.preprocessing import StandardScaler\n",
    "\n",
    "def normalize_row(row, scaler):\n",
    "    # Reshape row to match expected input of scaler\n",
    "    row_reshaped = row.values.reshape(1, -1)\n",
    "    # Apply the same transformation as training data\n",
    "    normalized_row = scaler.transform(row_reshaped)\n",
    "    return normalized_row  # Flatten to match the shape of the original row\n",
    "\n",
    "# Assuming 'scaler' is already fitted to 'X_train_oversampled'\n",
    "scaler = StandardScaler().fit(X_train_oversampled)\n",
    "\n",
    "df_new = X_train_oversampled.iloc[0]\n",
    "\n",
    "df_new_normalized = normalize_row(df_new, scaler)\n",
    "\n",
    "print(df_new_normalized)\n",
    "print(X_train_oversampled_T[0] == df_new_normalized)\n"
   ]
  },
  {
   "cell_type": "code",
   "execution_count": 162,
   "metadata": {},
   "outputs": [
    {
     "name": "stdout",
     "output_type": "stream",
     "text": [
      "The predicted probability is: [0.91205902]\n"
     ]
    },
    {
     "name": "stderr",
     "output_type": "stream",
     "text": [
      "/Users/pb/anaconda3/lib/python3.11/site-packages/sklearn/base.py:439: UserWarning: X does not have valid feature names, but StandardScaler was fitted with feature names\n",
      "  warnings.warn(\n"
     ]
    }
   ],
   "source": [
    "# Use user input to get \n",
    "import numpy as np\n",
    "\n",
    "user_input = [21.93, 0, 0.0, 0.0, 20.0, 0.0, 1.0, 1.0, 9.0, 5.0, 2.0, 0.0, 1.0, 3.0, 0.0, 1.0, 1.0]\n",
    "\n",
    "user_input_T = normalize_row(pd.DataFrame([user_input]),scaler)\n",
    "coef = np.array([0.11093823, 0.23342849, -0.05418123, 0.3869928, 0.25568301,\n",
    "                 0.11938427, 0.1761645, 0.37207277, 1.02793546, 0.02749455,\n",
    "                 0.26370807, -0.04490726, -0.03153452, -0.04868793, 0.13806599,\n",
    "                 0.19823492, 0.04858497]).flatten()\n",
    "intercept = -0.0196599\n",
    "\n",
    "#user_input_T = np.array([-0.72063279, 1.01757354, -0.24489727, -0.32061579, -0.44128201, -0.49706031,\n",
    "#              -0.56345196, 0.94606575, -1.70156519, -1.25708171, -0.56441101, 0.63194933,\n",
    "#              1.30354385, -0.69905489, -0.42729395, -0.28913775, -0.39388304])\n",
    "\n",
    "# Compute the linear combination of inputs and weights\n",
    "z = np.dot(user_input_T, coef) + intercept\n",
    "\n",
    "# Apply the logistic function\n",
    "p = 1 / (1 + np.exp(-z))\n",
    "\n",
    "print(\"The predicted probability is:\", p)\n"
   ]
  },
  {
   "cell_type": "code",
   "execution_count": null,
   "metadata": {},
   "outputs": [],
   "source": []
  },
  {
   "cell_type": "code",
   "execution_count": 127,
   "metadata": {},
   "outputs": [
    {
     "ename": "ValueError",
     "evalue": "The truth value of a Series is ambiguous. Use a.empty, a.bool(), a.item(), a.any() or a.all().",
     "output_type": "error",
     "traceback": [
      "\u001b[0;31m---------------------------------------------------------------------------\u001b[0m",
      "\u001b[0;31mValueError\u001b[0m                                Traceback (most recent call last)",
      "Cell \u001b[0;32mIn[127], line 3\u001b[0m\n\u001b[1;32m      1\u001b[0m X_train_oversampled\u001b[38;5;241m.\u001b[39miloc[\u001b[38;5;241m30\u001b[39m]\n\u001b[1;32m      2\u001b[0m \u001b[38;5;28;01mfor\u001b[39;00m i \u001b[38;5;129;01min\u001b[39;00m \u001b[38;5;28mrange\u001b[39m(\u001b[38;5;241m1000\u001b[39m):\n\u001b[0;32m----> 3\u001b[0m     \u001b[38;5;28;01mif\u001b[39;00m Y_train_oversampled[i] \u001b[38;5;241m==\u001b[39m \u001b[38;5;241m1\u001b[39m:\n\u001b[1;32m      4\u001b[0m         \u001b[38;5;28mprint\u001b[39m(i)\n\u001b[1;32m      5\u001b[0m         \u001b[38;5;28;01mbreak\u001b[39;00m\n",
      "File \u001b[0;32m~/anaconda3/lib/python3.11/site-packages/pandas/core/generic.py:1466\u001b[0m, in \u001b[0;36mNDFrame.__nonzero__\u001b[0;34m(self)\u001b[0m\n\u001b[1;32m   1464\u001b[0m \u001b[38;5;129m@final\u001b[39m\n\u001b[1;32m   1465\u001b[0m \u001b[38;5;28;01mdef\u001b[39;00m \u001b[38;5;21m__nonzero__\u001b[39m(\u001b[38;5;28mself\u001b[39m) \u001b[38;5;241m-\u001b[39m\u001b[38;5;241m>\u001b[39m NoReturn:\n\u001b[0;32m-> 1466\u001b[0m     \u001b[38;5;28;01mraise\u001b[39;00m \u001b[38;5;167;01mValueError\u001b[39;00m(\n\u001b[1;32m   1467\u001b[0m         \u001b[38;5;124mf\u001b[39m\u001b[38;5;124m\"\u001b[39m\u001b[38;5;124mThe truth value of a \u001b[39m\u001b[38;5;132;01m{\u001b[39;00m\u001b[38;5;28mtype\u001b[39m(\u001b[38;5;28mself\u001b[39m)\u001b[38;5;241m.\u001b[39m\u001b[38;5;18m__name__\u001b[39m\u001b[38;5;132;01m}\u001b[39;00m\u001b[38;5;124m is ambiguous. \u001b[39m\u001b[38;5;124m\"\u001b[39m\n\u001b[1;32m   1468\u001b[0m         \u001b[38;5;124m\"\u001b[39m\u001b[38;5;124mUse a.empty, a.bool(), a.item(), a.any() or a.all().\u001b[39m\u001b[38;5;124m\"\u001b[39m\n\u001b[1;32m   1469\u001b[0m     )\n",
      "\u001b[0;31mValueError\u001b[0m: The truth value of a Series is ambiguous. Use a.empty, a.bool(), a.item(), a.any() or a.all()."
     ]
    }
   ],
   "source": [
    "X_train_oversampled.iloc[30]\n",
    "for i in range(1000):\n",
    "    if Y_train_oversampled[i] == 1:\n",
    "        print(i)\n",
    "        break"
   ]
  },
  {
   "cell_type": "code",
   "execution_count": 137,
   "metadata": {},
   "outputs": [
    {
     "name": "stdout",
     "output_type": "stream",
     "text": [
      "[31.93, 1.0, 0.0, 0.0, 20.0, 0.0, 1.0, 1.0, 9.0, 5.0, 2.0, 0.0, 1.0, 3.0, 0.0, 1.0, 1.0]\n"
     ]
    }
   ],
   "source": [
    "print(list(X_train_oversampled.iloc[258229]))"
   ]
  },
  {
   "cell_type": "code",
   "execution_count": null,
   "metadata": {},
   "outputs": [],
   "source": []
  }
 ],
 "metadata": {
  "kaggle": {
   "accelerator": "none",
   "dataSources": [
    {
     "datasetId": 1936563,
     "sourceId": 6674905,
     "sourceType": "datasetVersion"
    }
   ],
   "dockerImageVersionId": 30664,
   "isGpuEnabled": false,
   "isInternetEnabled": false,
   "language": "python",
   "sourceType": "notebook"
  },
  "kernelspec": {
   "display_name": "Python 3 (ipykernel)",
   "language": "python",
   "name": "python3"
  },
  "language_info": {
   "codemirror_mode": {
    "name": "ipython",
    "version": 3
   },
   "file_extension": ".py",
   "mimetype": "text/x-python",
   "name": "python",
   "nbconvert_exporter": "python",
   "pygments_lexer": "ipython3",
   "version": "3.11.3"
  }
 },
 "nbformat": 4,
 "nbformat_minor": 4
}
